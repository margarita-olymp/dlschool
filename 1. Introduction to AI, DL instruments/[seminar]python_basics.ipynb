{
 "cells": [
  {
   "cell_type": "markdown",
   "metadata": {
    "colab_type": "text",
    "id": "1oGBdbb2Gwy9"
   },
   "source": [
    "<p style=\"align: center;\"><img align=center src=\"https://s8.hostingkartinok.com/uploads/images/2018/08/308b49fcfbc619d629fe4604bceb67ac.jpg\" style=\"height:90px;\" width=500/></p>\n",
    "\n",
    "<h3 style=\"text-align: center;\"><b>Физтех-Школа Прикладной математики и информатики (ФПМИ) МФТИ</b></h3>"
   ]
  },
  {
   "cell_type": "markdown",
   "metadata": {
    "colab_type": "text",
    "id": "eOivSghfGwy-"
   },
   "source": [
    "<h2 style=\"text-align: center;\"><b>Python. Занятие 1: Основы</b></h2>"
   ]
  },
  {
   "cell_type": "markdown",
   "metadata": {
    "colab_type": "text",
    "id": "_kqD6lQ7GwzA"
   },
   "source": [
    "<img align=left src=\"https://cdn.fedoramagazine.org/wp-content/uploads/2015/11/Python_logo.png\" style=\"height:160px;\" />\n",
    "\n",
    "<img align=center src=\"https://1.bp.blogspot.com/-16utHnlB3Ao/V4tpG8NBX0I/AAAAAAAAA7M/vDQ1p40JpE8M34eCr-UdriSV04Dn8au7QCLcB/s1600/jupyter-logo.png\" style=\"height:90px;\" />"
   ]
  },
  {
   "cell_type": "markdown",
   "metadata": {
    "colab_type": "text",
    "id": "wBxC0NK1GwzB"
   },
   "source": [
    "---"
   ]
  },
  {
   "cell_type": "markdown",
   "metadata": {
    "colab_type": "text",
    "id": "iKkG2y23GwzC"
   },
   "source": [
    "\n",
    "Перед тем как начать складывать уровни нейросеточек как блинчики или предсказывать кредитоспособность клиентов, нужно быть хорошо знакомым с нужными библиотеками и языком, на котором они написаны. \n",
    "В нашем курсе мы будем использовать язык **Python**, так как он является оптимальным сочетанием простоты, силы и количества полезных библиотек, написанных для него. "
   ]
  },
  {
   "cell_type": "markdown",
   "metadata": {
    "colab_type": "text",
    "id": "LYwDm-Y7GwzD"
   },
   "source": [
    "На этом занятии мы научимся писать программы на Python, изучив его основы.  "
   ]
  },
  {
   "cell_type": "markdown",
   "metadata": {
    "colab_type": "text",
    "id": "qoHHrmtJGwzG"
   },
   "source": [
    "## Основы Python"
   ]
  },
  {
   "cell_type": "markdown",
   "metadata": {
    "colab_type": "text",
    "id": "EpMCDIheGwzH"
   },
   "source": [
    "Сейчас существуют две часто используемые версии Питона — **Python 2** и **Python 3**. Эти версии довольно похожи, но есть отличия, из-за которых они **не являются совместимыми** - программы, написанные на одной версии языка, могут не работать в другой.  \n",
    "\n",
    "В нашем курсе мы будем писать на **Python 3**. Точная версия не принципиальна, но она должна быть >= 3.5  \n",
    "\n",
    "Если Вы пользуетесь каким-либо из дистрибутивов Linux, то Python скорее всего уже установлен.\n",
    "Попробуйте в терминале следующие команды для запуска интерактивного режима работы:\n",
    "\n",
    "`python` или `python3` или `python2`\n",
    "\n",
    "Выход: `Ctrl+D`\n",
    "\n",
    "Режим работы, в котором выполнится код из файла main.py\n",
    "\n",
    "`python main.py`\n",
    "\n",
    "Помощь: **`help(X)`**, где `X` — то, по чему нужна помощь.  \n",
    "Выход из помощи: `q`."
   ]
  },
  {
   "cell_type": "markdown",
   "metadata": {
    "colab_type": "text",
    "id": "JlUbz5X4GwzH"
   },
   "source": [
    "<img align=center src=\"http://images7.memedroid.com/images/UPLOADED973/596e4c96650e5.jpeg\" style=\"height:400px;\"/>"
   ]
  },
  {
   "cell_type": "markdown",
   "metadata": {
    "colab_type": "text",
    "id": "8N0y9NugGwzI"
   },
   "source": [
    "## Общая информация о языке\n",
    "\n",
    "**Название** - **«Питон» или «Пайтон»** (в честь комедийных серий BBC «Летающий цирк Монти-Пайтона»)  \n",
    "**Создатель** - **голландец Гвидо ван Россум (Guido van Rossum)** (в 1991 году)  \n",
    "\n",
    "**Особенности**:  \n",
    "- интерпретируемый\n",
    "- объектно-ориентированный\n",
    "- высокоуровневый язык\n",
    "- встроенные высокоуровневые структуры данных\n",
    "- динамическая типизация\n",
    "- синтаксис прост в изучении\n",
    "- поддержка модулей и пакетов (большинство библиотек\n",
    "бесплатны)\n",
    "- универсальный\n",
    "- интеграция с другими языками (C (Cython), C++, Java (JPython))  \n",
    "\n",
    "**Стиль оформления кода** - **PEP8** (если Вы хороший человек).  \n",
    "\n",
    "*Самое главное из PEP8:*  \n",
    "- отступ – 4 пробела\n",
    "- длина строки < 80 символов\n",
    "- переменные: var_recommended\n",
    "- константы: CONST_RECOMMENDED"
   ]
  },
  {
   "cell_type": "code",
   "execution_count": 0,
   "metadata": {
    "colab": {},
    "colab_type": "code",
    "id": "hmG1eJIjGwzJ"
   },
   "outputs": [],
   "source": [
    "import this"
   ]
  },
  {
   "cell_type": "markdown",
   "metadata": {
    "colab_type": "text",
    "id": "YfhDEhg_GwzM"
   },
   "source": [
    "## Типы"
   ]
  },
  {
   "cell_type": "markdown",
   "metadata": {
    "colab_type": "text",
    "id": "PJA-KLzvGwzN"
   },
   "source": [
    "**Все типы данных** в Python относятся к одной из **2-х категорий**: **изменяемые (mutable)** и **неизменяемые (unmutable)**.   \n",
    "\n",
    "*Неизменяемые объекты*:  \n",
    "* числовые данные (int, float), \n",
    "* bool,\n",
    "* None,\n",
    "* символьные строки (class 'str'), \n",
    "* кортежи (tuple).  \n",
    "\n",
    "*Изменяемые объекты*:  \n",
    "* списки (list), \n",
    "* множества (set), \n",
    "* словари (dict).  \n",
    "\n",
    "Вновь определяемые пользователем типы (классы) могут быть определены как неизменяемые или изменяемые. Изменяемость объектов определённого типа является принципиально важной характеристикой, определяющей, может ли объект такого типа **выступать в качестве ключа для словарей (dict)** или нет."
   ]
  },
  {
   "cell_type": "markdown",
   "metadata": {
    "colab_type": "text",
    "id": "-tXSqvRRGwzN"
   },
   "source": [
    "### int"
   ]
  },
  {
   "cell_type": "code",
   "execution_count": 1,
   "metadata": {
    "colab": {
     "base_uri": "https://localhost:8080/",
     "height": 34
    },
    "colab_type": "code",
    "executionInfo": {
     "elapsed": 764,
     "status": "ok",
     "timestamp": 1537470829644,
     "user": {
      "displayName": "Леонид Мурашов",
      "photoUrl": "//lh6.googleusercontent.com/-2Pp-57QeBbY/AAAAAAAAAAI/AAAAAAAAAes/KwZtl4yltWg/s50-c-k-no/photo.jpg",
      "userId": "108936594572719932171"
     },
     "user_tz": -180
    },
    "id": "MN-lZNJ4GwzO",
    "outputId": "d5977d20-2fba-4eec-bfbe-f38cbb994079"
   },
   "outputs": [
    {
     "name": "stdout",
     "output_type": "stream",
     "text": [
      "5 | <class 'int'>\n"
     ]
    }
   ],
   "source": [
    "x = 5\n",
    "\n",
    "print(x, '|', type(x))"
   ]
  },
  {
   "cell_type": "code",
   "execution_count": 2,
   "metadata": {
    "colab": {
     "base_uri": "https://localhost:8080/",
     "height": 34
    },
    "colab_type": "code",
    "executionInfo": {
     "elapsed": 585,
     "status": "ok",
     "timestamp": 1537470835417,
     "user": {
      "displayName": "Леонид Мурашов",
      "photoUrl": "//lh6.googleusercontent.com/-2Pp-57QeBbY/AAAAAAAAAAI/AAAAAAAAAes/KwZtl4yltWg/s50-c-k-no/photo.jpg",
      "userId": "108936594572719932171"
     },
     "user_tz": -180
    },
    "id": "4fRsWXp7GwzS",
    "outputId": "f074f0ad-4b13-484f-d371-3939273ce881"
   },
   "outputs": [
    {
     "name": "stdout",
     "output_type": "stream",
     "text": [
      "9 20 1\n"
     ]
    }
   ],
   "source": [
    "a = 4 + 5\n",
    "b = 4 * 5\n",
    "c = 5 // 4\n",
    "\n",
    "print(a, b, c)"
   ]
  },
  {
   "cell_type": "code",
   "execution_count": 0,
   "metadata": {
    "colab": {},
    "colab_type": "code",
    "id": "-7yyX2wcGwzV"
   },
   "outputs": [],
   "source": [
    "print( -(5 // 4) )"
   ]
  },
  {
   "cell_type": "code",
   "execution_count": 0,
   "metadata": {
    "colab": {},
    "colab_type": "code",
    "id": "cKNwlQ9OGwzX"
   },
   "outputs": [],
   "source": [
    "print( -5 // 4 )"
   ]
  },
  {
   "cell_type": "code",
   "execution_count": 0,
   "metadata": {
    "colab": {},
    "colab_type": "code",
    "id": "FnsWAhPMGwza"
   },
   "outputs": [],
   "source": [
    "x = 5 * 1000000000 * 1000000000 * 10**9 + 1\n",
    "print(x, '|', type(x))"
   ]
  },
  {
   "cell_type": "markdown",
   "metadata": {
    "colab_type": "text",
    "id": "Hf0cK9ejGwzd"
   },
   "source": [
    "### float"
   ]
  },
  {
   "cell_type": "code",
   "execution_count": 0,
   "metadata": {
    "colab": {},
    "colab_type": "code",
    "id": "IJcKX6iPGwzd"
   },
   "outputs": [],
   "source": [
    "y = 12.345\n",
    "\n",
    "print(y, type(y))"
   ]
  },
  {
   "cell_type": "code",
   "execution_count": 0,
   "metadata": {
    "colab": {},
    "colab_type": "code",
    "id": "qjBbYiC0Gwzg"
   },
   "outputs": [],
   "source": [
    "a = 4.2 + 5.1\n",
    "b = 4.2 * 5.1\n",
    "c = 5.0 / 4.0\n",
    "\n",
    "print(a, b, c)"
   ]
  },
  {
   "cell_type": "code",
   "execution_count": 0,
   "metadata": {
    "colab": {},
    "colab_type": "code",
    "id": "dWjoVU9OGwzj"
   },
   "outputs": [],
   "source": [
    "a = 5\n",
    "b = 4\n",
    "print(float(a) / float(b))"
   ]
  },
  {
   "cell_type": "code",
   "execution_count": 0,
   "metadata": {
    "colab": {},
    "colab_type": "code",
    "id": "ro4_LzARGwzo"
   },
   "outputs": [],
   "source": [
    "print(a / b)"
   ]
  },
  {
   "cell_type": "markdown",
   "metadata": {
    "colab_type": "text",
    "id": "YFD8l2XuGwzq"
   },
   "source": [
    "### bool"
   ]
  },
  {
   "cell_type": "code",
   "execution_count": 0,
   "metadata": {
    "colab": {},
    "colab_type": "code",
    "id": "f-kwu3wkGwzr"
   },
   "outputs": [],
   "source": [
    "a = True\n",
    "b = False\n",
    "\n",
    "print(a, '|', type(a))\n",
    "\n",
    "print(b, '|', type(b))"
   ]
  },
  {
   "cell_type": "code",
   "execution_count": 0,
   "metadata": {
    "colab": {},
    "colab_type": "code",
    "id": "XOtoJKoOGwzu"
   },
   "outputs": [],
   "source": [
    "print(a + b)\n",
    "print(a + a)\n",
    "print(b + b)"
   ]
  },
  {
   "cell_type": "code",
   "execution_count": 0,
   "metadata": {
    "colab": {},
    "colab_type": "code",
    "id": "bxaoc7p_Gwzw"
   },
   "outputs": [],
   "source": [
    "print(int(a), int(b))"
   ]
  },
  {
   "cell_type": "code",
   "execution_count": 0,
   "metadata": {
    "colab": {},
    "colab_type": "code",
    "id": "moSf59BmGwzz"
   },
   "outputs": [],
   "source": [
    "print(True and False, '\\n')\n",
    "\n",
    "print(True or True, '\\n')\n",
    "\n",
    "print(not False, '\\n')"
   ]
  },
  {
   "cell_type": "markdown",
   "metadata": {
    "colab_type": "text",
    "id": "sGGkrmM0Gwz1"
   },
   "source": [
    "### None"
   ]
  },
  {
   "cell_type": "code",
   "execution_count": 0,
   "metadata": {
    "colab": {},
    "colab_type": "code",
    "id": "BMIBkyzcGwz6"
   },
   "outputs": [],
   "source": [
    "z = None\n",
    "print(z, '|', type(z))"
   ]
  },
  {
   "cell_type": "code",
   "execution_count": 0,
   "metadata": {
    "colab": {},
    "colab_type": "code",
    "id": "KaBmiMneGwz8"
   },
   "outputs": [],
   "source": [
    "int(z)"
   ]
  },
  {
   "cell_type": "code",
   "execution_count": 0,
   "metadata": {
    "colab": {},
    "colab_type": "code",
    "id": "8k4aCla1Gwz_"
   },
   "outputs": [],
   "source": [
    "if z is None:\n",
    "    z = 'I am None!'\n",
    "z"
   ]
  },
  {
   "cell_type": "markdown",
   "metadata": {
    "colab_type": "text",
    "id": "r_y-TEM3Gw0A"
   },
   "source": [
    "### str"
   ]
  },
  {
   "cell_type": "markdown",
   "metadata": {
    "colab_type": "text",
    "id": "NYLe3wFlGw0C"
   },
   "source": [
    "В *python2.7* есть отдельный тип **unicode**. В *python3.5 (и выше)* (который будем использовать мы) всё это включено в тип **str**."
   ]
  },
  {
   "cell_type": "code",
   "execution_count": 0,
   "metadata": {
    "colab": {},
    "colab_type": "code",
    "id": "W5ZhY9r9Gw0C"
   },
   "outputs": [],
   "source": [
    "x = \"abc\"\n",
    "y = 'xyz'\n",
    "print(x, '|', type(x))\n",
    "print(y, '|', type(y))"
   ]
  },
  {
   "cell_type": "code",
   "execution_count": 0,
   "metadata": {
    "colab": {},
    "colab_type": "code",
    "id": "ZVTh7bPjGw0F"
   },
   "outputs": [],
   "source": [
    "a = 'Андрей'\n",
    "b = \"Михайлович\"\n",
    "s = a + \" \" + b\n",
    "print(s)"
   ]
  },
  {
   "cell_type": "code",
   "execution_count": 0,
   "metadata": {
    "colab": {},
    "colab_type": "code",
    "id": "r3L343d5Gw0H"
   },
   "outputs": [],
   "source": [
    "print(a.upper())\n",
    "print(a.lower())"
   ]
  },
  {
   "cell_type": "code",
   "execution_count": 0,
   "metadata": {
    "colab": {},
    "colab_type": "code",
    "id": "YiFvXOaIGw0K"
   },
   "outputs": [],
   "source": [
    "print(len(a))"
   ]
  },
  {
   "cell_type": "code",
   "execution_count": 0,
   "metadata": {
    "colab": {},
    "colab_type": "code",
    "id": "Ii16mZGRGw0N"
   },
   "outputs": [],
   "source": [
    "print(bool(a))\n",
    "print(bool(\"\" + ''))"
   ]
  },
  {
   "cell_type": "code",
   "execution_count": 0,
   "metadata": {
    "colab": {},
    "colab_type": "code",
    "id": "5eSIiAI_Gw0Q"
   },
   "outputs": [],
   "source": [
    "print(a)\n",
    "print(a[0])\n",
    "print(a[1])\n",
    "print(a[0:3])"
   ]
  },
  {
   "cell_type": "code",
   "execution_count": 0,
   "metadata": {
    "colab": {},
    "colab_type": "code",
    "id": "yxSnm0uPGw0S"
   },
   "outputs": [],
   "source": [
    "print(a[0:4:2])"
   ]
  },
  {
   "cell_type": "code",
   "execution_count": 0,
   "metadata": {
    "colab": {},
    "colab_type": "code",
    "id": "kpYdcXQJGw0V"
   },
   "outputs": [],
   "source": [
    "x = 'Роберт Дауни Младший'\n",
    "print(x, type(x))\n",
    "y = x.encode('utf-8')\n",
    "print(y, type(y))\n",
    "z = y.decode('utf-8')\n",
    "print(z, type(z))\n",
    "q = y.decode('cp1251')\n",
    "print(q, type(q))"
   ]
  },
  {
   "cell_type": "markdown",
   "metadata": {
    "colab_type": "text",
    "id": "knjcsCbVGw0Z"
   },
   "source": [
    "### Метод `split()`:"
   ]
  },
  {
   "cell_type": "code",
   "execution_count": 0,
   "metadata": {
    "colab": {},
    "colab_type": "code",
    "id": "TuEP17vFGw0Z"
   },
   "outputs": [],
   "source": [
    "splitted_line = \"Райгородский Андрей Михайлович\".split(' ')\n",
    "print(splitted_line)"
   ]
  },
  {
   "cell_type": "markdown",
   "metadata": {
    "colab_type": "text",
    "id": "2mnxxvHxGw0c"
   },
   "source": [
    "### tuple"
   ]
  },
  {
   "cell_type": "code",
   "execution_count": 0,
   "metadata": {
    "colab": {},
    "colab_type": "code",
    "id": "pCgzsWT-Gw0d"
   },
   "outputs": [],
   "source": [
    "t = ('a', 5, 12.345)\n",
    "t"
   ]
  },
  {
   "cell_type": "code",
   "execution_count": 0,
   "metadata": {
    "colab": {},
    "colab_type": "code",
    "id": "dDtHlkzIGw0f"
   },
   "outputs": [],
   "source": [
    "t.append(5)"
   ]
  },
  {
   "cell_type": "code",
   "execution_count": 0,
   "metadata": {
    "colab": {},
    "colab_type": "code",
    "id": "M7cLx8voGw0i"
   },
   "outputs": [],
   "source": [
    "dir(t)"
   ]
  },
  {
   "cell_type": "code",
   "execution_count": 0,
   "metadata": {
    "colab": {},
    "colab_type": "code",
    "id": "g5H4PakiGw0k"
   },
   "outputs": [],
   "source": [
    "t.index('a')"
   ]
  },
  {
   "cell_type": "code",
   "execution_count": 0,
   "metadata": {
    "colab": {},
    "colab_type": "code",
    "id": "p1Um9EKeGw0m"
   },
   "outputs": [],
   "source": [
    "t[2]"
   ]
  },
  {
   "cell_type": "code",
   "execution_count": 0,
   "metadata": {
    "colab": {},
    "colab_type": "code",
    "id": "CIWPvGkiGw0p"
   },
   "outputs": [],
   "source": [
    "m = (1, 2, 3)\n",
    "\n",
    "t + m"
   ]
  },
  {
   "cell_type": "code",
   "execution_count": 0,
   "metadata": {
    "colab": {},
    "colab_type": "code",
    "id": "UbRjhPXgGw0q"
   },
   "outputs": [],
   "source": [
    "t - m"
   ]
  },
  {
   "cell_type": "code",
   "execution_count": 0,
   "metadata": {
    "colab": {},
    "colab_type": "code",
    "id": "HoKY7OS5Gw0t"
   },
   "outputs": [],
   "source": [
    "len(m)"
   ]
  },
  {
   "cell_type": "markdown",
   "metadata": {
    "colab_type": "text",
    "id": "QrloQ6pcGw0w"
   },
   "source": [
    "#### Поменять переменные местами"
   ]
  },
  {
   "cell_type": "code",
   "execution_count": 0,
   "metadata": {
    "colab": {},
    "colab_type": "code",
    "id": "BP7tJfrwGw0x"
   },
   "outputs": [],
   "source": [
    "a = -5\n",
    "b = 100\n",
    "\n",
    "a, b = b, a\n",
    "\n",
    "print('a:', a, '\\nb:', b)"
   ]
  },
  {
   "cell_type": "markdown",
   "metadata": {
    "colab_type": "text",
    "id": "woS_SaYrGw00"
   },
   "source": [
    "### Немного про встроенные функции"
   ]
  },
  {
   "cell_type": "markdown",
   "metadata": {
    "colab_type": "text",
    "id": "RgJU9VTkGw00"
   },
   "source": [
    "В Python есть так называем **магические** (или служебные) методы - они начинаются и заканчиваются на двойное нижнее подчёркивание: \\__len\\__, \\__add\\__ ..."
   ]
  },
  {
   "cell_type": "code",
   "execution_count": 0,
   "metadata": {
    "colab": {},
    "colab_type": "code",
    "id": "68GdSBNSGw01"
   },
   "outputs": [],
   "source": [
    "__builtin__"
   ]
  },
  {
   "cell_type": "markdown",
   "metadata": {
    "colab_type": "text",
    "id": "NPt6sw70Gw08"
   },
   "source": [
    "Также в Python есть **встроенные** функции и методы, которые являются в некотором смысле универсальными.  \n",
    "Функция `dir()` выводит список всех атрибутов (имён - методы, функции, классы..), которые есть у модуля/класса/объекта:"
   ]
  },
  {
   "cell_type": "markdown",
   "metadata": {
    "colab_type": "text",
    "id": "RA8Q3ptXGw09"
   },
   "source": [
    "Давайте посмотрим на встроенные и служебные имена Python (не все):"
   ]
  },
  {
   "cell_type": "code",
   "execution_count": 0,
   "metadata": {
    "colab": {},
    "colab_type": "code",
    "id": "v3u4Ga2QGw1A"
   },
   "outputs": [],
   "source": [
    "dir(__builtin__)"
   ]
  },
  {
   "cell_type": "markdown",
   "metadata": {
    "colab_type": "text",
    "id": "3w6SCqq2Gw1D"
   },
   "source": [
    "---\n",
    "### Задание 1\n",
    "\n",
    "Выведите список атрибутов класса Exception."
   ]
  },
  {
   "cell_type": "code",
   "execution_count": 2,
   "metadata": {
    "colab": {},
    "colab_type": "code",
    "collapsed": true,
    "id": "JvOx73jRGw1F"
   },
   "outputs": [
    {
     "data": {
      "text/plain": [
       "['__cause__',\n",
       " '__class__',\n",
       " '__context__',\n",
       " '__delattr__',\n",
       " '__dict__',\n",
       " '__dir__',\n",
       " '__doc__',\n",
       " '__eq__',\n",
       " '__format__',\n",
       " '__ge__',\n",
       " '__getattribute__',\n",
       " '__gt__',\n",
       " '__hash__',\n",
       " '__init__',\n",
       " '__init_subclass__',\n",
       " '__le__',\n",
       " '__lt__',\n",
       " '__ne__',\n",
       " '__new__',\n",
       " '__reduce__',\n",
       " '__reduce_ex__',\n",
       " '__repr__',\n",
       " '__setattr__',\n",
       " '__setstate__',\n",
       " '__sizeof__',\n",
       " '__str__',\n",
       " '__subclasshook__',\n",
       " '__suppress_context__',\n",
       " '__traceback__',\n",
       " 'args',\n",
       " 'with_traceback']"
      ]
     },
     "execution_count": 2,
     "metadata": {},
     "output_type": "execute_result"
    }
   ],
   "source": [
    "dir(__builtin__.Exception)"
   ]
  },
  {
   "cell_type": "markdown",
   "metadata": {
    "colab_type": "text",
    "id": "hcaipS17Gw1I"
   },
   "source": [
    "---"
   ]
  },
  {
   "cell_type": "markdown",
   "metadata": {
    "colab_type": "text",
    "id": "aLlY0jGkGw1J"
   },
   "source": [
    "### Полезно"
   ]
  },
  {
   "cell_type": "markdown",
   "metadata": {
    "colab_type": "text",
    "id": "dSyo8vW9Gw1K"
   },
   "source": [
    "- При вызове метода какого-то класса (или функции какого-то модуля) можно написать его имя и через точку нажать **tab**:  \n",
    "\n",
    "<имя\\_объекта\\_класса(модуля)>**.[tab]**  \n",
    "\n",
    "Тогда всплывёт меню, в котором можно выбрать из всех существующих в этом классе методов (функций модуля)."
   ]
  },
  {
   "cell_type": "code",
   "execution_count": 0,
   "metadata": {
    "colab": {},
    "colab_type": "code",
    "id": "oocSKWGhGw1K"
   },
   "outputs": [],
   "source": [
    "__builtin__."
   ]
  },
  {
   "cell_type": "markdown",
   "metadata": {
    "colab_type": "text",
    "id": "sj4LWvuxGw1P"
   },
   "source": [
    "- Получение быстрой справки (help()) для любого объекта Python:"
   ]
  },
  {
   "cell_type": "code",
   "execution_count": 3,
   "metadata": {
    "colab": {},
    "colab_type": "code",
    "id": "wr0ieLrFGw1Q"
   },
   "outputs": [],
   "source": [
    "?__builtin__"
   ]
  },
  {
   "cell_type": "markdown",
   "metadata": {
    "colab_type": "text",
    "id": "P7kqThRsGw1S"
   },
   "source": [
    "### Структуры данных и встроенные функции"
   ]
  },
  {
   "cell_type": "markdown",
   "metadata": {
    "colab_type": "text",
    "id": "e6LOqPpYGw1T"
   },
   "source": [
    "### list"
   ]
  },
  {
   "cell_type": "code",
   "execution_count": 0,
   "metadata": {
    "colab": {},
    "colab_type": "code",
    "id": "pGXNzuLsGw1U"
   },
   "outputs": [],
   "source": [
    "a = list()\n",
    "b = []\n",
    "\n",
    "print(a == b)"
   ]
  },
  {
   "cell_type": "code",
   "execution_count": 0,
   "metadata": {
    "colab": {},
    "colab_type": "code",
    "id": "bj2nfMarGw1Y"
   },
   "outputs": [],
   "source": [
    "my_list = ['string', 100, 5.678, None]\n",
    "my_list"
   ]
  },
  {
   "cell_type": "markdown",
   "metadata": {
    "colab_type": "text",
    "id": "_0VofYBDGw1Z"
   },
   "source": [
    "* `list(range(start, end[, step]))` - получить последовательность (список) целых чисел, начинающуюся со `start`, заканчивающуюся в `end-1` и шагом `step`"
   ]
  },
  {
   "cell_type": "code",
   "execution_count": 73,
   "metadata": {
    "colab": {},
    "colab_type": "code",
    "id": "9wj-fsL5Gw1a"
   },
   "outputs": [
    {
     "name": "stdout",
     "output_type": "stream",
     "text": [
      "range(1, 10, 2) | <class 'range'>\n"
     ]
    }
   ],
   "source": [
    "array = range(1, 10, 2)\n",
    "print(array, '|', type(array))"
   ]
  },
  {
   "cell_type": "code",
   "execution_count": 74,
   "metadata": {
    "colab": {},
    "colab_type": "code",
    "id": "bYJBlGn3Gw1i"
   },
   "outputs": [
    {
     "name": "stdout",
     "output_type": "stream",
     "text": [
      "[1, 3, 5, 7, 9] | <class 'list'>\n"
     ]
    }
   ],
   "source": [
    "array = list(array)\n",
    "print(array, '|', type(array))"
   ]
  },
  {
   "cell_type": "code",
   "execution_count": 0,
   "metadata": {
    "colab": {},
    "colab_type": "code",
    "id": "nJAGzNrMGw1k"
   },
   "outputs": [],
   "source": [
    "array[1]"
   ]
  },
  {
   "cell_type": "code",
   "execution_count": 0,
   "metadata": {
    "colab": {},
    "colab_type": "code",
    "id": "lccw9vyNGw1p"
   },
   "outputs": [],
   "source": [
    "array[-1]"
   ]
  },
  {
   "cell_type": "code",
   "execution_count": 0,
   "metadata": {
    "colab": {},
    "colab_type": "code",
    "id": "Oa7FXqyrGw1r"
   },
   "outputs": [],
   "source": [
    "for i in range(5):\n",
    "    print(i)"
   ]
  },
  {
   "cell_type": "markdown",
   "metadata": {
    "colab_type": "text",
    "id": "5kWpqBrgGw1t"
   },
   "source": [
    "* Перевернуть список:"
   ]
  },
  {
   "cell_type": "code",
   "execution_count": 0,
   "metadata": {
    "colab": {},
    "colab_type": "code",
    "id": "J0BYX4JXGw1v"
   },
   "outputs": [],
   "source": [
    "array = array[::-1]\n",
    "array"
   ]
  },
  {
   "cell_type": "markdown",
   "metadata": {
    "colab_type": "text",
    "id": "4VKPt0CwGw1z"
   },
   "source": [
    "* Срезы (`slice`'s) - это объекты языка Python, позволяющие получить какую-то часть итерируемого объекта.  \n",
    "Пример:"
   ]
  },
  {
   "cell_type": "code",
   "execution_count": 76,
   "metadata": {
    "colab": {},
    "colab_type": "code",
    "id": "HBULSoIXGw1z"
   },
   "outputs": [
    {
     "data": {
      "text/plain": [
       "[0, 1, 2, 3, 4, 5, 6, 7, 8, 9]"
      ]
     },
     "execution_count": 76,
     "metadata": {},
     "output_type": "execute_result"
    }
   ],
   "source": [
    "foo = list(range(10))\n",
    "foo"
   ]
  },
  {
   "cell_type": "code",
   "execution_count": 77,
   "metadata": {
    "colab": {},
    "colab_type": "code",
    "id": "THekTQaHGw11"
   },
   "outputs": [
    {
     "data": {
      "text/plain": [
       "[0, 1, 2, 3, 4]"
      ]
     },
     "execution_count": 77,
     "metadata": {},
     "output_type": "execute_result"
    }
   ],
   "source": [
    "foo[:5]"
   ]
  },
  {
   "cell_type": "code",
   "execution_count": 78,
   "metadata": {
    "colab": {},
    "colab_type": "code",
    "id": "j642PY8CGw15"
   },
   "outputs": [
    {
     "data": {
      "text/plain": [
       "[5, 6, 7, 8, 9]"
      ]
     },
     "execution_count": 78,
     "metadata": {},
     "output_type": "execute_result"
    }
   ],
   "source": [
    "foo[5:]"
   ]
  },
  {
   "cell_type": "code",
   "execution_count": 79,
   "metadata": {
    "colab": {},
    "colab_type": "code",
    "id": "zGfCADqAGw17"
   },
   "outputs": [
    {
     "data": {
      "text/plain": [
       "[2, 3, 4]"
      ]
     },
     "execution_count": 79,
     "metadata": {},
     "output_type": "execute_result"
    }
   ],
   "source": [
    "foo[2:5]"
   ]
  },
  {
   "cell_type": "code",
   "execution_count": 81,
   "metadata": {
    "colab": {},
    "colab_type": "code",
    "id": "k_UVyPZOGw1-"
   },
   "outputs": [
    {
     "name": "stdout",
     "output_type": "stream",
     "text": [
      "slice(2, 5, None) | <class 'slice'>\n"
     ]
    }
   ],
   "source": [
    "slice_2_5 = slice(2, 5)\n",
    "print(slice_2_5, '|', type(slice_2_5))"
   ]
  },
  {
   "cell_type": "code",
   "execution_count": 83,
   "metadata": {
    "colab": {},
    "colab_type": "code",
    "id": "rrUM9yvEGw2A"
   },
   "outputs": [
    {
     "data": {
      "text/plain": [
       "[2, 3, 4]"
      ]
     },
     "execution_count": 83,
     "metadata": {},
     "output_type": "execute_result"
    }
   ],
   "source": [
    "foo[slice_2_5]"
   ]
  },
  {
   "cell_type": "markdown",
   "metadata": {
    "colab_type": "text",
    "id": "mMqdf9s1Gw2D"
   },
   "source": [
    "* `S.join(iterable)` - возвращает строку, которая является конкатенацией строк из `iterable`. Разделитель между строками - строка `S`"
   ]
  },
  {
   "cell_type": "code",
   "execution_count": 0,
   "metadata": {
    "colab": {},
    "colab_type": "code",
    "id": "9FqDIIhfGw2E"
   },
   "outputs": [],
   "source": [
    "str_array = ['a', 'b', 'c', 'd', 'e']"
   ]
  },
  {
   "cell_type": "code",
   "execution_count": 0,
   "metadata": {
    "colab": {},
    "colab_type": "code",
    "id": "hhPsibd6Gw2G"
   },
   "outputs": [],
   "source": [
    "' '.join(str_array)"
   ]
  },
  {
   "cell_type": "code",
   "execution_count": 0,
   "metadata": {
    "colab": {},
    "colab_type": "code",
    "id": "SIUdX4uTGw2I"
   },
   "outputs": [],
   "source": [
    "'!_and_!'.join(str_array)"
   ]
  },
  {
   "cell_type": "markdown",
   "metadata": {
    "colab_type": "text",
    "id": "4-_DSyd8Gw2K"
   },
   "source": [
    "* Списки можно \"склеивать\":"
   ]
  },
  {
   "cell_type": "code",
   "execution_count": 0,
   "metadata": {
    "colab": {},
    "colab_type": "code",
    "id": "v6LX530dGw2K"
   },
   "outputs": [],
   "source": [
    "a = [1, 2, 3]\n",
    "b = [4, 5, 6]\n",
    "\n",
    "print(a + b)"
   ]
  },
  {
   "cell_type": "markdown",
   "metadata": {
    "colab_type": "text",
    "id": "n6G2F8ZHGw2O"
   },
   "source": [
    "### Методы класса list"
   ]
  },
  {
   "cell_type": "code",
   "execution_count": 84,
   "metadata": {
    "colab": {},
    "colab_type": "code",
    "collapsed": true,
    "id": "lYIDEl_NGw2O"
   },
   "outputs": [
    {
     "data": {
      "text/plain": [
       "['__add__',\n",
       " '__class__',\n",
       " '__contains__',\n",
       " '__delattr__',\n",
       " '__delitem__',\n",
       " '__dir__',\n",
       " '__doc__',\n",
       " '__eq__',\n",
       " '__format__',\n",
       " '__ge__',\n",
       " '__getattribute__',\n",
       " '__getitem__',\n",
       " '__gt__',\n",
       " '__hash__',\n",
       " '__iadd__',\n",
       " '__imul__',\n",
       " '__init__',\n",
       " '__init_subclass__',\n",
       " '__iter__',\n",
       " '__le__',\n",
       " '__len__',\n",
       " '__lt__',\n",
       " '__mul__',\n",
       " '__ne__',\n",
       " '__new__',\n",
       " '__reduce__',\n",
       " '__reduce_ex__',\n",
       " '__repr__',\n",
       " '__reversed__',\n",
       " '__rmul__',\n",
       " '__setattr__',\n",
       " '__setitem__',\n",
       " '__sizeof__',\n",
       " '__str__',\n",
       " '__subclasshook__',\n",
       " 'append',\n",
       " 'clear',\n",
       " 'copy',\n",
       " 'count',\n",
       " 'extend',\n",
       " 'index',\n",
       " 'insert',\n",
       " 'pop',\n",
       " 'remove',\n",
       " 'reverse',\n",
       " 'sort']"
      ]
     },
     "execution_count": 84,
     "metadata": {},
     "output_type": "execute_result"
    }
   ],
   "source": [
    "dir(list)"
   ]
  },
  {
   "cell_type": "markdown",
   "metadata": {
    "colab_type": "text",
    "id": "6eSCqxCeGw2Q"
   },
   "source": [
    "* `L.append(element)` - добавляет элемент `element` в список `L`"
   ]
  },
  {
   "cell_type": "code",
   "execution_count": 85,
   "metadata": {
    "colab": {},
    "colab_type": "code",
    "id": "Jrnu0bDAGw2R"
   },
   "outputs": [
    {
     "data": {
      "text/plain": [
       "[4, 5, 1, 3, 2, 'BANG!']"
      ]
     },
     "execution_count": 85,
     "metadata": {},
     "output_type": "execute_result"
    }
   ],
   "source": [
    "l = [4, 5, 1, 3, 2]\n",
    "\n",
    "l.append('BANG!')\n",
    "l"
   ]
  },
  {
   "cell_type": "markdown",
   "metadata": {
    "colab_type": "text",
    "id": "rsWorHB2Gw2T"
   },
   "source": [
    "* `sorted(iterable, key)` - возвращает объект, являющийся отсортированной в соответствии с компаратором (по ключу) `key` версией объекта `iterable`. **НЕ изменяет начальный объект!**"
   ]
  },
  {
   "cell_type": "code",
   "execution_count": 0,
   "metadata": {
    "colab": {},
    "colab_type": "code",
    "id": "tTPZWRmGGw2U"
   },
   "outputs": [],
   "source": [
    "print(sorted(l), '|', l)"
   ]
  },
  {
   "cell_type": "code",
   "execution_count": 0,
   "metadata": {
    "colab": {},
    "colab_type": "code",
    "id": "Ccp7jFb2Gw2Y"
   },
   "outputs": [],
   "source": [
    "l.pop()"
   ]
  },
  {
   "cell_type": "code",
   "execution_count": 0,
   "metadata": {
    "colab": {},
    "colab_type": "code",
    "id": "rwsG5uIsGw2c"
   },
   "outputs": [],
   "source": [
    "print(sorted(l), '|', l)"
   ]
  },
  {
   "cell_type": "code",
   "execution_count": 0,
   "metadata": {
    "colab": {},
    "colab_type": "code",
    "id": "e6DfAfEcGw2j"
   },
   "outputs": [],
   "source": [
    "def cmp(string):\n",
    "    return len(string)"
   ]
  },
  {
   "cell_type": "code",
   "execution_count": 0,
   "metadata": {
    "colab": {},
    "colab_type": "code",
    "id": "rcN9rXiiGw2l"
   },
   "outputs": [],
   "source": [
    "names = ['Александр', 'Василий', 'Анастасия', 'Соня', 'Френк', 'Оля']\n",
    "sorted(names, key=cmp)"
   ]
  },
  {
   "cell_type": "code",
   "execution_count": 0,
   "metadata": {
    "colab": {},
    "colab_type": "code",
    "id": "pllKkf23Gw2p"
   },
   "outputs": [],
   "source": [
    "names = ['Александр', 'Василий', 'Анастасия', 'Соня', 'Френк', 'Оля']\n",
    "sorted(names, key=lambda x: len(x))"
   ]
  },
  {
   "cell_type": "code",
   "execution_count": 0,
   "metadata": {
    "colab": {},
    "colab_type": "code",
    "id": "8n55sk6nGw2u"
   },
   "outputs": [],
   "source": [
    "names"
   ]
  },
  {
   "cell_type": "markdown",
   "metadata": {
    "colab_type": "text",
    "id": "Ci84651GGw2w"
   },
   "source": [
    "* `L.sort(key)` - сортирует лист L в соответствии с компаратором (по ключу) key. **Изменяет начальный объект!**"
   ]
  },
  {
   "cell_type": "code",
   "execution_count": 0,
   "metadata": {
    "colab": {},
    "colab_type": "code",
    "id": "qBtxCB2pGw2x"
   },
   "outputs": [],
   "source": [
    "l = [1, 2, 3, 4, 5]\n",
    "\n",
    "l.append('BANG!')\n",
    "l\n",
    "\n",
    "l.sort()"
   ]
  },
  {
   "cell_type": "code",
   "execution_count": 0,
   "metadata": {
    "colab": {},
    "colab_type": "code",
    "id": "I7Zuo1hgGw2z"
   },
   "outputs": [],
   "source": [
    "l.pop()"
   ]
  },
  {
   "cell_type": "code",
   "execution_count": 0,
   "metadata": {
    "colab": {},
    "colab_type": "code",
    "id": "b0voXsJQGw23"
   },
   "outputs": [],
   "source": [
    "l"
   ]
  },
  {
   "cell_type": "code",
   "execution_count": 0,
   "metadata": {
    "colab": {},
    "colab_type": "code",
    "id": "_skPHJ2IGw25"
   },
   "outputs": [],
   "source": [
    "l.sort(reverse=True)\n",
    "l"
   ]
  },
  {
   "cell_type": "markdown",
   "metadata": {
    "colab_type": "text",
    "id": "3XbUrbRTGw27"
   },
   "source": [
    "* `L.count(element)` - возвращает количество вхождений элемента `element` в список `L`"
   ]
  },
  {
   "cell_type": "code",
   "execution_count": 0,
   "metadata": {
    "colab": {},
    "colab_type": "code",
    "id": "6HKrl1hRGw29"
   },
   "outputs": [],
   "source": [
    "l.count(1)"
   ]
  },
  {
   "cell_type": "code",
   "execution_count": 0,
   "metadata": {
    "colab": {},
    "colab_type": "code",
    "id": "zk_xk_sMGw3A"
   },
   "outputs": [],
   "source": [
    "l.count('padabum')"
   ]
  },
  {
   "cell_type": "code",
   "execution_count": 0,
   "metadata": {
    "colab": {},
    "colab_type": "code",
    "id": "konkZu60Gw3D"
   },
   "outputs": [],
   "source": [
    "len(l)"
   ]
  },
  {
   "cell_type": "markdown",
   "metadata": {
    "colab_type": "text",
    "id": "z-1Xw-VsGw3H"
   },
   "source": [
    "`L.index(element)` - возвращает индекс элемента `element` в списке `L`, если он там присутствует, `None` иначе"
   ]
  },
  {
   "cell_type": "code",
   "execution_count": 0,
   "metadata": {
    "colab": {},
    "colab_type": "code",
    "id": "3wzJgl6AGw3I"
   },
   "outputs": [],
   "source": [
    "l.index(3)"
   ]
  },
  {
   "cell_type": "markdown",
   "metadata": {
    "colab_type": "text",
    "id": "USIIpRQeGw3N"
   },
   "source": [
    "---"
   ]
  },
  {
   "cell_type": "markdown",
   "metadata": {
    "colab_type": "text",
    "id": "HA7rCsAcGw3O"
   },
   "source": [
    "### Задание 2\n"
   ]
  },
  {
   "cell_type": "markdown",
   "metadata": {
    "colab_type": "text",
    "id": "5F8N8lYHGw3P"
   },
   "source": [
    "1. Даны два списка одинаковых размеров из одинаковых элементов:  \n",
    "`items = [1 5 6 9 8 7 2 3 4]`  \n",
    "`shuffled_items = [2 3 4 1 6 5 7 9 8]`  \n",
    "\n",
    "2. Расставьте элементы (с помощью функции `sort()`) в списоке `items` так, чтобы получился список `shuffled_items`  "
   ]
  },
  {
   "cell_type": "code",
   "execution_count": 5,
   "metadata": {
    "colab": {},
    "colab_type": "code",
    "id": "cnSSg6bjGw3P"
   },
   "outputs": [
    {
     "name": "stdout",
     "output_type": "stream",
     "text": [
      "[2, 3, 4, 1, 6, 5, 7, 9, 8]\n"
     ]
    }
   ],
   "source": [
    "items=[1, 5, 6, 9, 8, 7, 2, 3, 4]\n",
    "items1=items[0:1]\n",
    "items2=items[1:3]\n",
    "items3=items[3:5]\n",
    "items4=items[5:6]\n",
    "items5=items[6:9]\n",
    "items2.sort(reverse=True)\n",
    "shuffled_items=items5+items1+items2+items4+items3\n",
    "print(shuffled_items)"
   ]
  },
  {
   "cell_type": "markdown",
   "metadata": {
    "colab_type": "text",
    "id": "MXFzodUsGw3s"
   },
   "source": [
    "---"
   ]
  },
  {
   "cell_type": "markdown",
   "metadata": {
    "colab_type": "text",
    "id": "04VwiGfkGw3t"
   },
   "source": [
    "### Циклы - for и while"
   ]
  },
  {
   "cell_type": "code",
   "execution_count": 0,
   "metadata": {
    "colab": {},
    "colab_type": "code",
    "id": "RGyfjAhGGw3u"
   },
   "outputs": [],
   "source": [
    "models = ['decision tree', 'linear model', 'svm', 'ensemble']\n",
    "\n",
    "for model in models:\n",
    "    print(model)"
   ]
  },
  {
   "cell_type": "code",
   "execution_count": 0,
   "metadata": {
    "colab": {},
    "colab_type": "code",
    "id": "qwWXAn2zGw3v"
   },
   "outputs": [],
   "source": [
    "x = 100\n",
    "\n",
    "while x > 50:\n",
    "    x -= 10\n",
    "    print(x)"
   ]
  },
  {
   "cell_type": "markdown",
   "metadata": {
    "colab_type": "text",
    "id": "70QerwaDGw3y"
   },
   "source": [
    "### enumerate, zip"
   ]
  },
  {
   "cell_type": "code",
   "execution_count": 0,
   "metadata": {
    "colab": {},
    "colab_type": "code",
    "id": "Ywi776zAGw3y"
   },
   "outputs": [],
   "source": [
    "first = 'a b c d e f g'.split(' ')\n",
    "second = '1 2 3 4 5 6 7'.split(' ')\n",
    "\n",
    "zip(first, second)"
   ]
  },
  {
   "cell_type": "code",
   "execution_count": 0,
   "metadata": {
    "colab": {},
    "colab_type": "code",
    "id": "grtoIeZnGw31"
   },
   "outputs": [],
   "source": [
    "list(zip(first, second))"
   ]
  },
  {
   "cell_type": "code",
   "execution_count": 0,
   "metadata": {
    "colab": {},
    "colab_type": "code",
    "id": "pU1pECP1Gw33"
   },
   "outputs": [],
   "source": [
    "methods = dir(__builtin__)\n",
    "\n",
    "for num, method in enumerate(methods):\n",
    "    if num % 5 == 0:\n",
    "        print(num, method)"
   ]
  },
  {
   "cell_type": "code",
   "execution_count": 0,
   "metadata": {
    "colab": {},
    "colab_type": "code",
    "id": "Ye3s-FKvGw34"
   },
   "outputs": [],
   "source": [
    "enum = enumerate(first)\n",
    "list(enum)"
   ]
  },
  {
   "cell_type": "code",
   "execution_count": 0,
   "metadata": {
    "colab": {},
    "colab_type": "code",
    "id": "9W4TJ9iOGw35"
   },
   "outputs": [],
   "source": [
    "enum = enumerate(first)\n",
    "zip_style = zip(range(0, len(first)), first)\n",
    "\n",
    "print(list(enum) == list(zip_style))"
   ]
  },
  {
   "cell_type": "markdown",
   "metadata": {
    "colab_type": "text",
    "id": "ZPIwoJneGw37"
   },
   "source": [
    "---\n",
    "\n",
    "### Задание 3\n",
    "\n",
    "1. Создайте список `a`, состоящий из каких-то элементов.\n",
    "2. Создайте список `b` такого же размера, как `a`, состоящий из каких-то элементов.\n",
    "3. Выведите нумерованный список пар из элементов списков `a` и `b`."
   ]
  },
  {
   "cell_type": "code",
   "execution_count": 6,
   "metadata": {
    "colab": {},
    "colab_type": "code",
    "id": "rucloO5QGw37"
   },
   "outputs": [
    {
     "name": "stdout",
     "output_type": "stream",
     "text": [
      "[(3, 'Arina'), (5, 'Rita'), (1, 'Boris'), (2, 'Alina'), (4, 'Sasha')]\n"
     ]
    }
   ],
   "source": [
    "a = [3,5,1,2,4]\n",
    "b = [\"Arina\",\"Rita\",\"Boris\",\"Alina\",\"Sasha\"]\n",
    "l = list(zip(a,b))\n",
    "print(l)"
   ]
  },
  {
   "cell_type": "markdown",
   "metadata": {
    "colab_type": "text",
    "id": "MJJxXLh2Gw37"
   },
   "source": [
    "---"
   ]
  },
  {
   "cell_type": "markdown",
   "metadata": {
    "colab_type": "text",
    "id": "fXwUimADGw38"
   },
   "source": [
    "### list comprehensions"
   ]
  },
  {
   "cell_type": "code",
   "execution_count": 0,
   "metadata": {
    "colab": {},
    "colab_type": "code",
    "id": "CD07ruuWGw38"
   },
   "outputs": [],
   "source": [
    "a = [x for x in range(1, 6)]\n",
    "a"
   ]
  },
  {
   "cell_type": "code",
   "execution_count": 0,
   "metadata": {
    "colab": {},
    "colab_type": "code",
    "id": "BUtpf0EGGw3-"
   },
   "outputs": [],
   "source": [
    "def f(x):\n",
    "    return x ** 2"
   ]
  },
  {
   "cell_type": "code",
   "execution_count": 0,
   "metadata": {
    "colab": {},
    "colab_type": "code",
    "id": "LLz_Z3yTGw4B"
   },
   "outputs": [],
   "source": [
    "b = [f(x) for x in range(1, 10)]\n",
    "c = [x ** 2 for x in range(1, 10)]\n",
    "print(b, '==', c)"
   ]
  },
  {
   "cell_type": "code",
   "execution_count": 0,
   "metadata": {
    "colab": {},
    "colab_type": "code",
    "id": "Y-PG0lZyGw4C"
   },
   "outputs": [],
   "source": [
    "[x if x in 'aeiou' else '*' for x in 'apple']"
   ]
  },
  {
   "cell_type": "code",
   "execution_count": 0,
   "metadata": {
    "colab": {},
    "colab_type": "code",
    "id": "pxaLFok8Gw4E"
   },
   "outputs": [],
   "source": [
    "def foo(i):\n",
    "    return i, i + 1\n",
    "\n",
    "l = []\n",
    "for i in range(3):\n",
    "    for x in foo(i):\n",
    "        l.append(str(x))\n",
    "        \n",
    "l"
   ]
  },
  {
   "cell_type": "code",
   "execution_count": 0,
   "metadata": {
    "colab": {},
    "colab_type": "code",
    "id": "4VIKA8NHGw4G"
   },
   "outputs": [],
   "source": [
    "l = [str(x) for i in range(3) for x in foo(i)]\n",
    "l"
   ]
  },
  {
   "cell_type": "markdown",
   "metadata": {
    "colab_type": "text",
    "id": "u6xV9d3WGw4I"
   },
   "source": [
    "---"
   ]
  },
  {
   "cell_type": "markdown",
   "metadata": {
    "colab_type": "text",
    "id": "obbVEyk5Gw4I"
   },
   "source": [
    "### Задание 4"
   ]
  },
  {
   "cell_type": "markdown",
   "metadata": {
    "colab_type": "text",
    "id": "Px2HOqD9Gw4J"
   },
   "source": [
    "*Выведите* список из 100 чисел *через запятую*. **Чистыми циклами пользоваться нельзя.** (list comprehensions можно)"
   ]
  },
  {
   "cell_type": "code",
   "execution_count": 8,
   "metadata": {
    "colab": {},
    "colab_type": "code",
    "id": "fN5BeHS3Gw4J"
   },
   "outputs": [
    {
     "name": "stdout",
     "output_type": "stream",
     "text": [
      "[1, 2, 3, 4, 5, 6, 7, 8, 9, 10, 11, 12, 13, 14, 15, 16, 17, 18, 19, 20, 21, 22, 23, 24, 25, 26, 27, 28, 29, 30, 31, 32, 33, 34, 35, 36, 37, 38, 39, 40, 41, 42, 43, 44, 45, 46, 47, 48, 49, 50, 51, 52, 53, 54, 55, 56, 57, 58, 59, 60, 61, 62, 63, 64, 65, 66, 67, 68, 69, 70, 71, 72, 73, 74, 75, 76, 77, 78, 79, 80, 81, 82, 83, 84, 85, 86, 87, 88, 89, 90, 91, 92, 93, 94, 95, 96, 97, 98, 99, 100]\n"
     ]
    }
   ],
   "source": [
    "l = [x for x in range(1,101)]\n",
    "print(l)"
   ]
  },
  {
   "cell_type": "markdown",
   "metadata": {
    "colab_type": "text",
    "id": "F9iEYYVWGw4K"
   },
   "source": [
    "---"
   ]
  },
  {
   "cell_type": "markdown",
   "metadata": {
    "colab_type": "text",
    "id": "354ivCzAGw4L"
   },
   "source": [
    "### functions, lambdas"
   ]
  },
  {
   "cell_type": "markdown",
   "metadata": {
    "colab_type": "text",
    "id": "gOPbxDezjW5B"
   },
   "source": [
    "* function:"
   ]
  },
  {
   "cell_type": "code",
   "execution_count": 0,
   "metadata": {
    "colab": {},
    "colab_type": "code",
    "id": "wppdwV3AGw4L"
   },
   "outputs": [],
   "source": [
    "def make_coffee(size, sugar_dose=3, **kwargs):\n",
    "    if sugar_dose > 5:\n",
    "        return 'Too much sugar! Be careful! :('\n",
    "    else:\n",
    "        return 'Done: cup of {0} ml size; amount of sugar = {1}'.format(size, sugar_dose)"
   ]
  },
  {
   "cell_type": "code",
   "execution_count": 0,
   "metadata": {
    "colab": {},
    "colab_type": "code",
    "id": "inDy5yYCGw4M"
   },
   "outputs": [],
   "source": [
    "make_coffee(100)"
   ]
  },
  {
   "cell_type": "code",
   "execution_count": 0,
   "metadata": {
    "colab": {},
    "colab_type": "code",
    "id": "bFMvn-vrGw4O"
   },
   "outputs": [],
   "source": [
    "make_coffee(200, 1)"
   ]
  },
  {
   "cell_type": "code",
   "execution_count": 0,
   "metadata": {
    "colab": {},
    "colab_type": "code",
    "id": "zoc4wDmAGw4R"
   },
   "outputs": [],
   "source": [
    "make_coffee(100, 6)"
   ]
  },
  {
   "cell_type": "code",
   "execution_count": 0,
   "metadata": {
    "colab": {},
    "colab_type": "code",
    "id": "1esIuPDaGw4S"
   },
   "outputs": [],
   "source": [
    "make_coffee(120, 5, name='Ilya', gender='male')  # kwargs"
   ]
  },
  {
   "cell_type": "markdown",
   "metadata": {
    "colab_type": "text",
    "id": "kGIyyMeCjW5E"
   },
   "source": [
    "* lambda:"
   ]
  },
  {
   "cell_type": "code",
   "execution_count": 0,
   "metadata": {
    "colab": {},
    "colab_type": "code",
    "id": "6RBIMsgNGw4U"
   },
   "outputs": [],
   "source": [
    "negation = lambda x: -x\n",
    "a = 5\n",
    "print(negation(a))"
   ]
  },
  {
   "cell_type": "markdown",
   "metadata": {
    "colab_type": "text",
    "id": "HK1TYlFQGw4V"
   },
   "source": [
    "### map, reduce, filter"
   ]
  },
  {
   "cell_type": "markdown",
   "metadata": {
    "colab_type": "text",
    "id": "w8Vi6DG3Gw4W"
   },
   "source": [
    "* `map(func, iterables)` - выполняет преобразование func над элементами iterables и возвращает **новый** `iterable`:"
   ]
  },
  {
   "cell_type": "code",
   "execution_count": 0,
   "metadata": {
    "colab": {},
    "colab_type": "code",
    "id": "FXvofaljGw4W"
   },
   "outputs": [],
   "source": [
    "words = dir(list)"
   ]
  },
  {
   "cell_type": "code",
   "execution_count": 0,
   "metadata": {
    "colab": {},
    "colab_type": "code",
    "id": "ngRHxS_1Gw4X"
   },
   "outputs": [],
   "source": [
    "letter_counts = list(map(lambda x: len(x), words))\n",
    "\n",
    "print(letter_counts)\n",
    "print()\n",
    "print(words)"
   ]
  },
  {
   "cell_type": "code",
   "execution_count": 0,
   "metadata": {
    "colab": {},
    "colab_type": "code",
    "id": "OgT1pUomGw4X"
   },
   "outputs": [],
   "source": [
    "l1 = [1,2,3,4]\n",
    "l2 = [11, 12, 13, 14, 15]\n",
    "l3 = [101, 102, 103]\n",
    "\n",
    "triple_sum = list(map(lambda x, y, z: x + y + z, l1, l2, l3))\n",
    "print(triple_sum)"
   ]
  },
  {
   "cell_type": "markdown",
   "metadata": {
    "colab_type": "text",
    "id": "l3yvma4DGw4Y"
   },
   "source": [
    "* `reduce(func, iterables)` - производит вычисление с элементами последовательности, результатом которого является **одно значение**:"
   ]
  },
  {
   "cell_type": "code",
   "execution_count": 0,
   "metadata": {
    "colab": {},
    "colab_type": "code",
    "id": "Ti1K4bsGGw4Y"
   },
   "outputs": [],
   "source": [
    "from functools import reduce"
   ]
  },
  {
   "cell_type": "code",
   "execution_count": 0,
   "metadata": {
    "colab": {},
    "colab_type": "code",
    "id": "DlX_nviwGw4a"
   },
   "outputs": [],
   "source": [
    "sum_of_counts = reduce(lambda x, y: x + y, letter_counts)\n",
    "print(sum_of_counts)"
   ]
  },
  {
   "cell_type": "markdown",
   "metadata": {
    "colab_type": "text",
    "id": "8nIyNHN1Gw4b"
   },
   "source": [
    "* `filter(predicate, iterable)` - оставляет только те элементы, для которых **верен** предикат (функция, возвращающая bool):"
   ]
  },
  {
   "cell_type": "code",
   "execution_count": 0,
   "metadata": {
    "colab": {},
    "colab_type": "code",
    "id": "LfIPgcNgGw4b"
   },
   "outputs": [],
   "source": [
    "mixed = ['мак', 'просо', 'мак', 'мак', 'просо', 'мак', 'просо', 'просо', 'просо', 'мак']\n",
    "only_mac = list(filter(lambda x: x == 'мак', mixed))\n",
    "print(only_mac)"
   ]
  },
  {
   "cell_type": "markdown",
   "metadata": {
    "colab_type": "text",
    "id": "g3cWsZwOGw4e"
   },
   "source": [
    "---"
   ]
  },
  {
   "cell_type": "markdown",
   "metadata": {
    "colab_type": "text",
    "id": "uugRKJebGw4e"
   },
   "source": [
    "### Задание 5\n",
    "\n",
    "1. Дан массив строк: `['agfkd.,f', 'Qksdf;sb&..', 'asdoo*', 'bgf...d', 're54()kj[]].'] `\n",
    "2. Создайте список, состоящий из количества точек в каждой строке. Выведите его\n",
    "3. Создайте новый список, в котором будут **только строки, в которых более 2-х точек**. Выведите его  \n",
    "\n",
    "Циклами пользоваться нельзя."
   ]
  },
  {
   "cell_type": "code",
   "execution_count": 15,
   "metadata": {
    "colab": {},
    "colab_type": "code",
    "id": "3noLimKfGw4e"
   },
   "outputs": [
    {
     "name": "stdout",
     "output_type": "stream",
     "text": [
      "[1, 2, 0, 3, 1]\n"
     ]
    }
   ],
   "source": [
    "l=['agfkd.,f', 'Qksdf;sb&..', 'asdoo*', 'bgf...d', 're54()kj[]].']\n",
    "l1 = list(map(lambda x: x.count('.'), l))\n",
    "print(l1)"
   ]
  },
  {
   "cell_type": "markdown",
   "metadata": {
    "colab_type": "text",
    "id": "oqHHZkqkGw4f"
   },
   "source": [
    "---"
   ]
  },
  {
   "cell_type": "markdown",
   "metadata": {
    "colab_type": "text",
    "id": "8f3c96Y3Gw4f"
   },
   "source": [
    "### set"
   ]
  },
  {
   "cell_type": "code",
   "execution_count": 16,
   "metadata": {
    "colab": {},
    "colab_type": "code",
    "id": "7FsYEdL-Gw4f"
   },
   "outputs": [
    {
     "data": {
      "text/plain": [
       "set()"
      ]
     },
     "execution_count": 16,
     "metadata": {},
     "output_type": "execute_result"
    }
   ],
   "source": [
    "s = set()\n",
    "s"
   ]
  },
  {
   "cell_type": "code",
   "execution_count": 17,
   "metadata": {
    "colab": {},
    "colab_type": "code",
    "collapsed": true,
    "id": "P4VHzWWcGw4j"
   },
   "outputs": [
    {
     "data": {
      "text/plain": [
       "['__and__',\n",
       " '__class__',\n",
       " '__contains__',\n",
       " '__delattr__',\n",
       " '__dir__',\n",
       " '__doc__',\n",
       " '__eq__',\n",
       " '__format__',\n",
       " '__ge__',\n",
       " '__getattribute__',\n",
       " '__gt__',\n",
       " '__hash__',\n",
       " '__iand__',\n",
       " '__init__',\n",
       " '__init_subclass__',\n",
       " '__ior__',\n",
       " '__isub__',\n",
       " '__iter__',\n",
       " '__ixor__',\n",
       " '__le__',\n",
       " '__len__',\n",
       " '__lt__',\n",
       " '__ne__',\n",
       " '__new__',\n",
       " '__or__',\n",
       " '__rand__',\n",
       " '__reduce__',\n",
       " '__reduce_ex__',\n",
       " '__repr__',\n",
       " '__ror__',\n",
       " '__rsub__',\n",
       " '__rxor__',\n",
       " '__setattr__',\n",
       " '__sizeof__',\n",
       " '__str__',\n",
       " '__sub__',\n",
       " '__subclasshook__',\n",
       " '__xor__',\n",
       " 'add',\n",
       " 'clear',\n",
       " 'copy',\n",
       " 'difference',\n",
       " 'difference_update',\n",
       " 'discard',\n",
       " 'intersection',\n",
       " 'intersection_update',\n",
       " 'isdisjoint',\n",
       " 'issubset',\n",
       " 'issuperset',\n",
       " 'pop',\n",
       " 'remove',\n",
       " 'symmetric_difference',\n",
       " 'symmetric_difference_update',\n",
       " 'union',\n",
       " 'update']"
      ]
     },
     "execution_count": 17,
     "metadata": {},
     "output_type": "execute_result"
    }
   ],
   "source": [
    "dir(s)"
   ]
  },
  {
   "cell_type": "code",
   "execution_count": 18,
   "metadata": {
    "colab": {},
    "colab_type": "code",
    "id": "nZ7OwvJoGw4m"
   },
   "outputs": [
    {
     "name": "stdout",
     "output_type": "stream",
     "text": [
      "{'a', 1, None, 'bullet'}\n"
     ]
    }
   ],
   "source": [
    "s.add(1)\n",
    "s.add('a')\n",
    "s.add(None)\n",
    "s.add('bullet')\n",
    "print(s)"
   ]
  },
  {
   "cell_type": "code",
   "execution_count": 19,
   "metadata": {
    "colab": {},
    "colab_type": "code",
    "id": "xuSORJBVGw4n"
   },
   "outputs": [],
   "source": [
    "s1 = set(range(0, 10))\n",
    "s2 = set(range(5, 15))"
   ]
  },
  {
   "cell_type": "code",
   "execution_count": 20,
   "metadata": {
    "colab": {},
    "colab_type": "code",
    "id": "XHt0SFi3Gw4o"
   },
   "outputs": [
    {
     "name": "stdout",
     "output_type": "stream",
     "text": [
      "{0, 1, 2, 3, 4}\n",
      "\n",
      "{10, 11, 12, 13, 14}\n"
     ]
    }
   ],
   "source": [
    "print(s1.difference(s2))\n",
    "print()\n",
    "print(s2.difference(s1))"
   ]
  },
  {
   "cell_type": "code",
   "execution_count": 21,
   "metadata": {
    "colab": {},
    "colab_type": "code",
    "id": "tx1o8_2kGw4p"
   },
   "outputs": [
    {
     "data": {
      "text/plain": [
       "{5, 6, 7, 8, 9}"
      ]
     },
     "execution_count": 21,
     "metadata": {},
     "output_type": "execute_result"
    }
   ],
   "source": [
    "s1.intersection(s2)"
   ]
  },
  {
   "cell_type": "code",
   "execution_count": 22,
   "metadata": {
    "colab": {},
    "colab_type": "code",
    "id": "SgxbKT7KGw4p"
   },
   "outputs": [
    {
     "data": {
      "text/plain": [
       "{0, 1, 2, 3, 4, 5, 6, 7, 8, 9, 10, 11, 12, 13, 14}"
      ]
     },
     "execution_count": 22,
     "metadata": {},
     "output_type": "execute_result"
    }
   ],
   "source": [
    "s1.union(s2)"
   ]
  },
  {
   "cell_type": "code",
   "execution_count": 23,
   "metadata": {
    "colab": {},
    "colab_type": "code",
    "id": "CtzRiAgAGw4q"
   },
   "outputs": [
    {
     "name": "stdout",
     "output_type": "stream",
     "text": [
      "s1:  {0, 1, 2, 3, 4, 5, 6, 7, 8, 9} \n",
      "s2:  {5, 6, 7, 8, 9, 10, 11, 12, 13, 14}\n"
     ]
    }
   ],
   "source": [
    "print('s1: ', s1, '\\ns2: ', s2)"
   ]
  },
  {
   "cell_type": "markdown",
   "metadata": {
    "colab_type": "text",
    "id": "i0xyAzGiGw4s"
   },
   "source": [
    "### dict"
   ]
  },
  {
   "cell_type": "code",
   "execution_count": 24,
   "metadata": {
    "colab": {},
    "colab_type": "code",
    "id": "8mGEtp7BGw4s"
   },
   "outputs": [
    {
     "name": "stdout",
     "output_type": "stream",
     "text": [
      "True | <class 'dict'>\n"
     ]
    }
   ],
   "source": [
    "d = {}\n",
    "dd = dict()\n",
    "\n",
    "print(d == dd, '|', type(d))"
   ]
  },
  {
   "cell_type": "code",
   "execution_count": 25,
   "metadata": {
    "colab": {},
    "colab_type": "code",
    "collapsed": true,
    "id": "b-dGPNI6Gw4t"
   },
   "outputs": [
    {
     "data": {
      "text/plain": [
       "['__class__',\n",
       " '__contains__',\n",
       " '__delattr__',\n",
       " '__delitem__',\n",
       " '__dir__',\n",
       " '__doc__',\n",
       " '__eq__',\n",
       " '__format__',\n",
       " '__ge__',\n",
       " '__getattribute__',\n",
       " '__getitem__',\n",
       " '__gt__',\n",
       " '__hash__',\n",
       " '__init__',\n",
       " '__init_subclass__',\n",
       " '__iter__',\n",
       " '__le__',\n",
       " '__len__',\n",
       " '__lt__',\n",
       " '__ne__',\n",
       " '__new__',\n",
       " '__reduce__',\n",
       " '__reduce_ex__',\n",
       " '__repr__',\n",
       " '__setattr__',\n",
       " '__setitem__',\n",
       " '__sizeof__',\n",
       " '__str__',\n",
       " '__subclasshook__',\n",
       " 'clear',\n",
       " 'copy',\n",
       " 'fromkeys',\n",
       " 'get',\n",
       " 'items',\n",
       " 'keys',\n",
       " 'pop',\n",
       " 'popitem',\n",
       " 'setdefault',\n",
       " 'update',\n",
       " 'values']"
      ]
     },
     "execution_count": 25,
     "metadata": {},
     "output_type": "execute_result"
    }
   ],
   "source": [
    "dir(dict)"
   ]
  },
  {
   "cell_type": "code",
   "execution_count": 26,
   "metadata": {
    "colab": {},
    "colab_type": "code",
    "id": "Tasup1rwGw4w"
   },
   "outputs": [
    {
     "data": {
      "text/plain": [
       "{'a': 100}"
      ]
     },
     "execution_count": 26,
     "metadata": {},
     "output_type": "execute_result"
    }
   ],
   "source": [
    "d['a'] = 100\n",
    "d"
   ]
  },
  {
   "cell_type": "code",
   "execution_count": 27,
   "metadata": {
    "colab": {},
    "colab_type": "code",
    "id": "V4PNtLrtGw4y"
   },
   "outputs": [
    {
     "data": {
      "text/plain": [
       "{'short': 'dict', 'long': 'dictionary'}"
      ]
     },
     "execution_count": 27,
     "metadata": {},
     "output_type": "execute_result"
    }
   ],
   "source": [
    "d = dict(short='dict', long='dictionary')\n",
    "d"
   ]
  },
  {
   "cell_type": "code",
   "execution_count": 28,
   "metadata": {
    "colab": {},
    "colab_type": "code",
    "id": "SiejuQPWGw41"
   },
   "outputs": [
    {
     "data": {
      "text/plain": [
       "{1: 1, 2: 4}"
      ]
     },
     "execution_count": 28,
     "metadata": {},
     "output_type": "execute_result"
    }
   ],
   "source": [
    "d = dict([(1, 1), (2, 4)])\n",
    "d"
   ]
  },
  {
   "cell_type": "code",
   "execution_count": 29,
   "metadata": {
    "colab": {},
    "colab_type": "code",
    "id": "hKzBkSEPGw44"
   },
   "outputs": [
    {
     "data": {
      "text/plain": [
       "{'a': None, 'b': None}"
      ]
     },
     "execution_count": 29,
     "metadata": {},
     "output_type": "execute_result"
    }
   ],
   "source": [
    "d = dict.fromkeys(['a', 'b'])\n",
    "d"
   ]
  },
  {
   "cell_type": "code",
   "execution_count": 30,
   "metadata": {
    "colab": {},
    "colab_type": "code",
    "id": "ul5ln-nHGw46"
   },
   "outputs": [
    {
     "data": {
      "text/plain": [
       "{'a': 100, 'b': 100}"
      ]
     },
     "execution_count": 30,
     "metadata": {},
     "output_type": "execute_result"
    }
   ],
   "source": [
    "d = dict.fromkeys(['a', 'b'], 100)\n",
    "d"
   ]
  },
  {
   "cell_type": "markdown",
   "metadata": {
    "colab_type": "text",
    "id": "YwySNULzGw4_"
   },
   "source": [
    "**dict comprehensions**"
   ]
  },
  {
   "cell_type": "code",
   "execution_count": 31,
   "metadata": {
    "colab": {},
    "colab_type": "code",
    "id": "WYE28ZQcGw4_"
   },
   "outputs": [
    {
     "data": {
      "text/plain": [
       "{0: 0, 1: 1, 2: 4, 3: 9, 4: 16, 5: 25, 6: 36}"
      ]
     },
     "execution_count": 31,
     "metadata": {},
     "output_type": "execute_result"
    }
   ],
   "source": [
    "d = {a: a ** 2 for a in range(7)}\n",
    "d"
   ]
  },
  {
   "cell_type": "markdown",
   "metadata": {
    "colab_type": "text",
    "id": "79dYvUBLGw5A"
   },
   "source": [
    "### !"
   ]
  },
  {
   "cell_type": "markdown",
   "metadata": {
    "colab_type": "text",
    "id": "BacZFsy-Gw5A"
   },
   "source": [
    "Будьте осторожны, если ключа, по которому поступил запрос, нет в словаре, то выбросит исключение:"
   ]
  },
  {
   "cell_type": "code",
   "execution_count": 32,
   "metadata": {
    "colab": {},
    "colab_type": "code",
    "id": "m9Z8UVuHGw5A"
   },
   "outputs": [
    {
     "ename": "KeyError",
     "evalue": "'a'",
     "output_type": "error",
     "traceback": [
      "\u001b[1;31m---------------------------------------------------------------------------\u001b[0m",
      "\u001b[1;31mKeyError\u001b[0m                                  Traceback (most recent call last)",
      "\u001b[1;32m<ipython-input-32-c3e9e00fc198>\u001b[0m in \u001b[0;36m<module>\u001b[1;34m()\u001b[0m\n\u001b[0;32m      1\u001b[0m \u001b[0md\u001b[0m \u001b[1;33m=\u001b[0m \u001b[1;33m{\u001b[0m\u001b[1;36m1\u001b[0m\u001b[1;33m:\u001b[0m \u001b[1;36m100\u001b[0m\u001b[1;33m,\u001b[0m \u001b[1;36m2\u001b[0m\u001b[1;33m:\u001b[0m \u001b[1;36m200\u001b[0m\u001b[1;33m,\u001b[0m \u001b[1;36m3\u001b[0m\u001b[1;33m:\u001b[0m \u001b[1;36m300\u001b[0m\u001b[1;33m}\u001b[0m\u001b[1;33m\u001b[0m\u001b[0m\n\u001b[1;32m----> 2\u001b[1;33m \u001b[0md\u001b[0m\u001b[1;33m[\u001b[0m\u001b[1;34m'a'\u001b[0m\u001b[1;33m]\u001b[0m\u001b[1;33m\u001b[0m\u001b[0m\n\u001b[0m",
      "\u001b[1;31mKeyError\u001b[0m: 'a'"
     ]
    }
   ],
   "source": [
    "d = {1: 100, 2: 200, 3: 300}\n",
    "d['a']"
   ]
  },
  {
   "cell_type": "markdown",
   "metadata": {
    "colab_type": "text",
    "id": "ldTDId4IGw5B"
   },
   "source": [
    "Поэтому безопаснее использовать **get(key)**. Тогда, если нужно, можно проверить на **None**:"
   ]
  },
  {
   "cell_type": "code",
   "execution_count": 33,
   "metadata": {
    "colab": {},
    "colab_type": "code",
    "id": "-sz0nIsXGw5B"
   },
   "outputs": [
    {
     "data": {
      "text/plain": [
       "100"
      ]
     },
     "execution_count": 33,
     "metadata": {},
     "output_type": "execute_result"
    }
   ],
   "source": [
    "d.get(1)"
   ]
  },
  {
   "cell_type": "code",
   "execution_count": 34,
   "metadata": {
    "colab": {},
    "colab_type": "code",
    "id": "IB7VemHiGw5D"
   },
   "outputs": [
    {
     "data": {
      "text/plain": [
       "True"
      ]
     },
     "execution_count": 34,
     "metadata": {},
     "output_type": "execute_result"
    }
   ],
   "source": [
    "d.get('a') == None"
   ]
  },
  {
   "cell_type": "markdown",
   "metadata": {
    "colab_type": "text",
    "id": "nU8c9PouGw5E"
   },
   "source": [
    "Самое часто используемое - получение ключей, получение значений и получение всего вместе:"
   ]
  },
  {
   "cell_type": "code",
   "execution_count": 35,
   "metadata": {
    "colab": {},
    "colab_type": "code",
    "id": "_cC8rqn-Gw5E"
   },
   "outputs": [
    {
     "name": "stdout",
     "output_type": "stream",
     "text": [
      "dict_keys([1, 2, 3]) | <class 'dict_keys'>\n",
      "[1, 2, 3]\n"
     ]
    }
   ],
   "source": [
    "print(d.keys(), '|', type(d.keys()))\n",
    "\n",
    "\n",
    "print(list(d.keys()))"
   ]
  },
  {
   "cell_type": "code",
   "execution_count": 36,
   "metadata": {
    "colab": {},
    "colab_type": "code",
    "id": "pvh7EPaQGw5E"
   },
   "outputs": [
    {
     "name": "stdout",
     "output_type": "stream",
     "text": [
      "dict_values([100, 200, 300]) | <class 'dict_values'>\n",
      "[100, 200, 300]\n"
     ]
    }
   ],
   "source": [
    "print(d.values(), '|', type(d.values()))\n",
    "\n",
    "\n",
    "print(list(d.values()))"
   ]
  },
  {
   "cell_type": "code",
   "execution_count": 37,
   "metadata": {
    "colab": {},
    "colab_type": "code",
    "id": "sz6vs1_nGw5F"
   },
   "outputs": [
    {
     "name": "stdout",
     "output_type": "stream",
     "text": [
      "dict_items([(1, 100), (2, 200), (3, 300)]) | <class 'dict_items'>\n",
      "[(1, 100), (2, 200), (3, 300)]\n"
     ]
    }
   ],
   "source": [
    "print(d.items(), '|', type(d.items()))\n",
    "\n",
    "\n",
    "print(list(d.items()))"
   ]
  },
  {
   "cell_type": "markdown",
   "metadata": {
    "colab_type": "text",
    "id": "-kYdwvhLGw5F"
   },
   "source": [
    "### modules"
   ]
  },
  {
   "cell_type": "markdown",
   "metadata": {
    "colab_type": "text",
    "id": "i8oVrMMOGw5G"
   },
   "source": [
    "**Модули** - это \"библиотеки\" Python. То есть это самостоятельные, объединённые технически и логически, именованные части Python кода"
   ]
  },
  {
   "cell_type": "markdown",
   "metadata": {
    "colab_type": "text",
    "id": "8VsaBB8CGw5G"
   },
   "source": [
    "* О модулях необходимо знать только одно - как их импортировать:"
   ]
  },
  {
   "cell_type": "code",
   "execution_count": 38,
   "metadata": {
    "colab": {},
    "colab_type": "code",
    "id": "HyDhkTUYGw5H"
   },
   "outputs": [],
   "source": [
    "import collections"
   ]
  },
  {
   "cell_type": "markdown",
   "metadata": {
    "colab_type": "text",
    "id": "KCOahn9JGw5H"
   },
   "source": [
    "* Импортировать только какой-то компонент из модуля:"
   ]
  },
  {
   "cell_type": "code",
   "execution_count": 0,
   "metadata": {
    "colab": {},
    "colab_type": "code",
    "id": "GFTwj3EEGw5H"
   },
   "outputs": [],
   "source": [
    "from collections import Counter"
   ]
  },
  {
   "cell_type": "markdown",
   "metadata": {
    "colab_type": "text",
    "id": "VXFVpvqwGw5I"
   },
   "source": [
    "* Импортировать с другим именем (чаще всего используется для локаничности кода):"
   ]
  },
  {
   "cell_type": "code",
   "execution_count": 0,
   "metadata": {
    "colab": {},
    "colab_type": "code",
    "id": "pDR1RfkAGw5I"
   },
   "outputs": [],
   "source": [
    "import collections as cool_lib"
   ]
  },
  {
   "cell_type": "code",
   "execution_count": 42,
   "metadata": {
    "colab": {},
    "colab_type": "code",
    "id": "NXIY7m_zGw5J"
   },
   "outputs": [],
   "source": [
    "count = cool_lib.Counter()"
   ]
  },
  {
   "cell_type": "markdown",
   "metadata": {
    "colab_type": "text",
    "id": "YxuJA1qgGw5K"
   },
   "source": [
    "Жизненный пример:"
   ]
  },
  {
   "cell_type": "code",
   "execution_count": 0,
   "metadata": {
    "colab": {},
    "colab_type": "code",
    "id": "db7fca4LGw5K"
   },
   "outputs": [],
   "source": [
    "import numpy as np"
   ]
  },
  {
   "cell_type": "markdown",
   "metadata": {
    "colab_type": "text",
    "id": "1q8IsL0_Gw5L"
   },
   "source": [
    "### files"
   ]
  },
  {
   "cell_type": "code",
   "execution_count": 45,
   "metadata": {
    "colab": {},
    "colab_type": "code",
    "id": "8ps9pgh_Gw5L"
   },
   "outputs": [],
   "source": [
    "path = './20_newsgroups/sci.space/62478'"
   ]
  },
  {
   "cell_type": "code",
   "execution_count": 46,
   "metadata": {
    "colab": {},
    "colab_type": "code",
    "id": "ivXBlu9EGw5M"
   },
   "outputs": [
    {
     "ename": "FileNotFoundError",
     "evalue": "[Errno 2] No such file or directory: './20_newsgroups/sci.space/62478'",
     "output_type": "error",
     "traceback": [
      "\u001b[1;31m---------------------------------------------------------------------------\u001b[0m",
      "\u001b[1;31mFileNotFoundError\u001b[0m                         Traceback (most recent call last)",
      "\u001b[1;32m<ipython-input-46-fe8d9f2b8826>\u001b[0m in \u001b[0;36m<module>\u001b[1;34m()\u001b[0m\n\u001b[1;32m----> 1\u001b[1;33m \u001b[0mfile\u001b[0m \u001b[1;33m=\u001b[0m \u001b[0mopen\u001b[0m\u001b[1;33m(\u001b[0m\u001b[0mpath\u001b[0m\u001b[1;33m,\u001b[0m \u001b[0mmode\u001b[0m\u001b[1;33m=\u001b[0m\u001b[1;34m'r'\u001b[0m\u001b[1;33m)\u001b[0m\u001b[1;33m\u001b[0m\u001b[0m\n\u001b[0m\u001b[0;32m      2\u001b[0m \u001b[0mprint\u001b[0m\u001b[1;33m(\u001b[0m\u001b[1;33m[\u001b[0m\u001b[0mline\u001b[0m \u001b[1;32mfor\u001b[0m \u001b[0mline\u001b[0m \u001b[1;32min\u001b[0m \u001b[0mfile\u001b[0m\u001b[1;33m]\u001b[0m\u001b[1;33m[\u001b[0m\u001b[1;36m0\u001b[0m\u001b[1;33m]\u001b[0m\u001b[1;33m)\u001b[0m\u001b[1;33m\u001b[0m\u001b[0m\n\u001b[0;32m      3\u001b[0m \u001b[0mfile\u001b[0m\u001b[1;33m.\u001b[0m\u001b[0mclose\u001b[0m\u001b[1;33m(\u001b[0m\u001b[1;33m)\u001b[0m\u001b[1;33m\u001b[0m\u001b[0m\n",
      "\u001b[1;31mFileNotFoundError\u001b[0m: [Errno 2] No such file or directory: './20_newsgroups/sci.space/62478'"
     ]
    }
   ],
   "source": [
    "file = open(path, mode='r')\n",
    "print([line for line in file][0])\n",
    "file.close()"
   ]
  },
  {
   "cell_type": "markdown",
   "metadata": {
    "colab_type": "text",
    "id": "FR3dNC56Gw5N"
   },
   "source": [
    "| Режим | Обозначение |\n",
    "|-------|-------------|\n",
    "| **'r'**  | Открытие на **чтение** (является значением по умолчанию) |\n",
    "| **'rb'** | Открытие на **чтение**, в предположении, что будут считываться **байты** |\n",
    "| **'w'** | Открытие на **запись**, содержимое файла удаляется. Если файла не существует, создается новый |\n",
    "| **'wb**' | Открытие на **запись байтов**, содержимое файла удаляется. Если файла не существует, создается новый |\n",
    "| **'a'** | Открытие на **дозапись**, информация добавляется **в конец файла** |\n",
    "| **'r+'** | Открыть файл на **чтение И запись**. Если файла нет, **новый НЕ создаётся** |\n",
    "| **'a+'** | Открыть файл на **чтение И запись в конец файла**. Если файла нет, **новый создаётся** |\n",
    "| **'t'** | Открытие файла **как текстового** (по умолчанию) |"
   ]
  },
  {
   "cell_type": "code",
   "execution_count": 47,
   "metadata": {
    "colab": {},
    "colab_type": "code",
    "id": "NYRCktzbGw5N"
   },
   "outputs": [
    {
     "ename": "FileNotFoundError",
     "evalue": "[Errno 2] No such file or directory: './20_newsgroups/sci.space/62478'",
     "output_type": "error",
     "traceback": [
      "\u001b[1;31m---------------------------------------------------------------------------\u001b[0m",
      "\u001b[1;31mFileNotFoundError\u001b[0m                         Traceback (most recent call last)",
      "\u001b[1;32m<ipython-input-47-9c8b4cb2a397>\u001b[0m in \u001b[0;36m<module>\u001b[1;34m()\u001b[0m\n\u001b[1;32m----> 1\u001b[1;33m \u001b[1;32mwith\u001b[0m \u001b[0mopen\u001b[0m\u001b[1;33m(\u001b[0m\u001b[0mpath\u001b[0m\u001b[1;33m,\u001b[0m \u001b[0mmode\u001b[0m\u001b[1;33m=\u001b[0m\u001b[1;34m'r'\u001b[0m\u001b[1;33m)\u001b[0m \u001b[1;32mas\u001b[0m \u001b[0mtest_file\u001b[0m\u001b[1;33m:\u001b[0m\u001b[1;33m\u001b[0m\u001b[0m\n\u001b[0m\u001b[0;32m      2\u001b[0m     \u001b[1;32mfor\u001b[0m \u001b[0mline\u001b[0m \u001b[1;32min\u001b[0m \u001b[0mtest_file\u001b[0m\u001b[1;33m:\u001b[0m\u001b[1;33m\u001b[0m\u001b[0m\n\u001b[0;32m      3\u001b[0m         \u001b[0mprint\u001b[0m\u001b[1;33m(\u001b[0m\u001b[0mline\u001b[0m\u001b[1;33m)\u001b[0m\u001b[1;33m\u001b[0m\u001b[0m\n",
      "\u001b[1;31mFileNotFoundError\u001b[0m: [Errno 2] No such file or directory: './20_newsgroups/sci.space/62478'"
     ]
    }
   ],
   "source": [
    "with open(path, mode='r') as test_file:\n",
    "    for line in test_file:\n",
    "        print(line)"
   ]
  },
  {
   "cell_type": "markdown",
   "metadata": {
    "colab_type": "text",
    "id": "Rq1vFhrLGw5O"
   },
   "source": [
    "### classes"
   ]
  },
  {
   "cell_type": "code",
   "execution_count": 48,
   "metadata": {
    "colab": {},
    "colab_type": "code",
    "id": "iqyjT3nEGw5P"
   },
   "outputs": [],
   "source": [
    "class Human:\n",
    "    def __init__(self, name='', age=None, deep_learning_specialist=False):\n",
    "        self.name = name\n",
    "        self.age = age\n",
    "        self.deep_learning_specialist = deep_learning_specialist\n",
    "    \n",
    "    def set_age(self, age):\n",
    "        self.age = age\n",
    "    \n",
    "    def get_age(self):\n",
    "        return self.age\n",
    "    \n",
    "    def __str__(self):\n",
    "        return 'Name: {}\\nAge: {} \\\n",
    "                \\nIs deep learning specialist: {}'.format(self.name, self.age, \n",
    "                                                          self.deep_learning_specialist)\n",
    "\n",
    "class DLSchoolStudent(Human):\n",
    "    def __init__(self, name='', age=None, deep_learning_specialist=False):\n",
    "        super().__init__(name, age, deep_learning_specialist)\n",
    "        self.total_grade = None\n",
    "        self.deep_learning_specialist = True\n",
    "    \n",
    "    def __str__(self):\n",
    "        return super().__str__()"
   ]
  },
  {
   "cell_type": "code",
   "execution_count": 49,
   "metadata": {
    "colab": {},
    "colab_type": "code",
    "id": "7rcUa2c6Gw5Q"
   },
   "outputs": [
    {
     "name": "stdout",
     "output_type": "stream",
     "text": [
      "Name: Person\n",
      "Age: 17                 \n",
      "Is deep learning specialist: False\n"
     ]
    }
   ],
   "source": [
    "human = Human('Person', 17)\n",
    "print(human)"
   ]
  },
  {
   "cell_type": "code",
   "execution_count": 50,
   "metadata": {
    "colab": {},
    "colab_type": "code",
    "id": "ClXD89RBGw5R"
   },
   "outputs": [
    {
     "name": "stdout",
     "output_type": "stream",
     "text": [
      "Name: Good Person\n",
      "Age: 18                 \n",
      "Is deep learning specialist: True\n"
     ]
    }
   ],
   "source": [
    "student = DLSchoolStudent('Good Person', 18)\n",
    "print(student)"
   ]
  },
  {
   "cell_type": "markdown",
   "metadata": {
    "colab_type": "text",
    "id": "6leMOqzKGw5R"
   },
   "source": [
    "### exceptions"
   ]
  },
  {
   "cell_type": "code",
   "execution_count": 51,
   "metadata": {
    "colab": {},
    "colab_type": "code",
    "collapsed": true,
    "id": "lqdK9vpIGw5R"
   },
   "outputs": [
    {
     "data": {
      "text/plain": [
       "['ArithmeticError',\n",
       " 'AssertionError',\n",
       " 'AttributeError',\n",
       " 'BaseException',\n",
       " 'BlockingIOError',\n",
       " 'BrokenPipeError',\n",
       " 'BufferError',\n",
       " 'BytesWarning',\n",
       " 'ChildProcessError',\n",
       " 'ConnectionAbortedError',\n",
       " 'ConnectionError',\n",
       " 'ConnectionRefusedError',\n",
       " 'ConnectionResetError',\n",
       " 'DeprecationWarning',\n",
       " 'EOFError',\n",
       " 'Ellipsis',\n",
       " 'EnvironmentError',\n",
       " 'Exception',\n",
       " 'False',\n",
       " 'FileExistsError',\n",
       " 'FileNotFoundError',\n",
       " 'FloatingPointError',\n",
       " 'FutureWarning',\n",
       " 'GeneratorExit',\n",
       " 'IOError',\n",
       " 'ImportError',\n",
       " 'ImportWarning',\n",
       " 'IndentationError',\n",
       " 'IndexError',\n",
       " 'InterruptedError',\n",
       " 'IsADirectoryError',\n",
       " 'KeyError',\n",
       " 'KeyboardInterrupt',\n",
       " 'LookupError',\n",
       " 'MemoryError',\n",
       " 'ModuleNotFoundError',\n",
       " 'NameError',\n",
       " 'None',\n",
       " 'NotADirectoryError',\n",
       " 'NotImplemented',\n",
       " 'NotImplementedError',\n",
       " 'OSError',\n",
       " 'OverflowError',\n",
       " 'PendingDeprecationWarning',\n",
       " 'PermissionError',\n",
       " 'ProcessLookupError',\n",
       " 'RecursionError',\n",
       " 'ReferenceError',\n",
       " 'ResourceWarning',\n",
       " 'RuntimeError',\n",
       " 'RuntimeWarning',\n",
       " 'StopAsyncIteration',\n",
       " 'StopIteration',\n",
       " 'SyntaxError',\n",
       " 'SyntaxWarning',\n",
       " 'SystemError',\n",
       " 'SystemExit',\n",
       " 'TabError',\n",
       " 'TimeoutError',\n",
       " 'True',\n",
       " 'TypeError',\n",
       " 'UnboundLocalError',\n",
       " 'UnicodeDecodeError',\n",
       " 'UnicodeEncodeError',\n",
       " 'UnicodeError',\n",
       " 'UnicodeTranslateError',\n",
       " 'UnicodeWarning',\n",
       " 'UserWarning',\n",
       " 'ValueError',\n",
       " 'Warning',\n",
       " 'WindowsError',\n",
       " 'ZeroDivisionError',\n",
       " '__IPYTHON__',\n",
       " '__build_class__',\n",
       " '__debug__',\n",
       " '__doc__',\n",
       " '__import__',\n",
       " '__loader__',\n",
       " '__name__',\n",
       " '__package__',\n",
       " '__spec__',\n",
       " 'abs',\n",
       " 'all',\n",
       " 'any',\n",
       " 'ascii',\n",
       " 'bin',\n",
       " 'bool',\n",
       " 'bytearray',\n",
       " 'bytes',\n",
       " 'callable',\n",
       " 'chr',\n",
       " 'classmethod',\n",
       " 'compile',\n",
       " 'complex',\n",
       " 'copyright',\n",
       " 'credits',\n",
       " 'delattr',\n",
       " 'dict',\n",
       " 'dir',\n",
       " 'display',\n",
       " 'divmod',\n",
       " 'enumerate',\n",
       " 'eval',\n",
       " 'exec',\n",
       " 'filter',\n",
       " 'float',\n",
       " 'format',\n",
       " 'frozenset',\n",
       " 'get_ipython',\n",
       " 'getattr',\n",
       " 'globals',\n",
       " 'hasattr',\n",
       " 'hash',\n",
       " 'help',\n",
       " 'hex',\n",
       " 'id',\n",
       " 'input',\n",
       " 'int',\n",
       " 'isinstance',\n",
       " 'issubclass',\n",
       " 'iter',\n",
       " 'len',\n",
       " 'license',\n",
       " 'list',\n",
       " 'locals',\n",
       " 'map',\n",
       " 'max',\n",
       " 'memoryview',\n",
       " 'min',\n",
       " 'next',\n",
       " 'object',\n",
       " 'oct',\n",
       " 'open',\n",
       " 'ord',\n",
       " 'pow',\n",
       " 'print',\n",
       " 'property',\n",
       " 'range',\n",
       " 'repr',\n",
       " 'reversed',\n",
       " 'round',\n",
       " 'set',\n",
       " 'setattr',\n",
       " 'slice',\n",
       " 'sorted',\n",
       " 'staticmethod',\n",
       " 'str',\n",
       " 'sum',\n",
       " 'super',\n",
       " 'tuple',\n",
       " 'type',\n",
       " 'vars',\n",
       " 'zip']"
      ]
     },
     "execution_count": 51,
     "metadata": {},
     "output_type": "execute_result"
    }
   ],
   "source": [
    "dir(__builtin__)"
   ]
  },
  {
   "cell_type": "code",
   "execution_count": 52,
   "metadata": {
    "colab": {},
    "colab_type": "code",
    "id": "4fvhuqHWGw5S"
   },
   "outputs": [
    {
     "ename": "KeyboardInterrupt",
     "evalue": "",
     "output_type": "error",
     "traceback": [
      "\u001b[1;31m---------------------------------------------------------------------------\u001b[0m",
      "\u001b[1;31mKeyboardInterrupt\u001b[0m                         Traceback (most recent call last)",
      "\u001b[1;32m<ipython-input-52-e3057c5353ff>\u001b[0m in \u001b[0;36m<module>\u001b[1;34m()\u001b[0m\n\u001b[1;32m----> 1\u001b[1;33m \u001b[1;32mraise\u001b[0m \u001b[0mKeyboardInterrupt\u001b[0m\u001b[1;33m(\u001b[0m\u001b[1;33m)\u001b[0m\u001b[1;33m\u001b[0m\u001b[0m\n\u001b[0m",
      "\u001b[1;31mKeyboardInterrupt\u001b[0m: "
     ]
    }
   ],
   "source": [
    "raise KeyboardInterrupt()"
   ]
  },
  {
   "cell_type": "code",
   "execution_count": 53,
   "metadata": {
    "colab": {},
    "colab_type": "code",
    "id": "e-ixo9KZGw5T"
   },
   "outputs": [
    {
     "ename": "KeyError",
     "evalue": "'NEW'",
     "output_type": "error",
     "traceback": [
      "\u001b[1;31m---------------------------------------------------------------------------\u001b[0m",
      "\u001b[1;31mKeyError\u001b[0m                                  Traceback (most recent call last)",
      "\u001b[1;32m<ipython-input-53-66f0d68bd406>\u001b[0m in \u001b[0;36m<module>\u001b[1;34m()\u001b[0m\n\u001b[0;32m      1\u001b[0m \u001b[0mmy_dict\u001b[0m \u001b[1;33m=\u001b[0m \u001b[1;33m{\u001b[0m\u001b[1;36m1\u001b[0m\u001b[1;33m:\u001b[0m \u001b[1;36m100\u001b[0m\u001b[1;33m,\u001b[0m \u001b[1;36m2\u001b[0m\u001b[1;33m:\u001b[0m \u001b[1;36m200\u001b[0m\u001b[1;33m}\u001b[0m\u001b[1;33m\u001b[0m\u001b[0m\n\u001b[1;32m----> 2\u001b[1;33m \u001b[0mprint\u001b[0m\u001b[1;33m(\u001b[0m\u001b[0mmy_dict\u001b[0m\u001b[1;33m[\u001b[0m\u001b[1;34m'NEW'\u001b[0m\u001b[1;33m]\u001b[0m\u001b[1;33m)\u001b[0m\u001b[1;33m\u001b[0m\u001b[0m\n\u001b[0m",
      "\u001b[1;31mKeyError\u001b[0m: 'NEW'"
     ]
    }
   ],
   "source": [
    "my_dict = {1: 100, 2: 200}\n",
    "print(my_dict['NEW'])"
   ]
  },
  {
   "cell_type": "code",
   "execution_count": 54,
   "metadata": {
    "colab": {},
    "colab_type": "code",
    "id": "AHvxS46MGw5U"
   },
   "outputs": [
    {
     "name": "stdout",
     "output_type": "stream",
     "text": [
      "Caught KeyError!\n"
     ]
    }
   ],
   "source": [
    "try:\n",
    "    my_dict = {1: 100, 2: 200}\n",
    "    print(my_dict['NEW'])\n",
    "except KeyError:\n",
    "    print('Caught KeyError!')"
   ]
  },
  {
   "cell_type": "markdown",
   "metadata": {
    "colab_type": "text",
    "id": "eh9SR61aGw5U"
   },
   "source": [
    "### Полезные библиотеки Python"
   ]
  },
  {
   "cell_type": "markdown",
   "metadata": {
    "colab_type": "text",
    "id": "n8z_sEhyGw5V"
   },
   "source": [
    "### glob"
   ]
  },
  {
   "cell_type": "code",
   "execution_count": 61,
   "metadata": {
    "colab": {},
    "colab_type": "code",
    "id": "5KYnQ6ARGw5V"
   },
   "outputs": [],
   "source": [
    "import glob"
   ]
  },
  {
   "cell_type": "code",
   "execution_count": 62,
   "metadata": {
    "colab": {},
    "colab_type": "code",
    "id": "rtqbatDNGw5W"
   },
   "outputs": [
    {
     "name": "stdout",
     "output_type": "stream",
     "text": [
      " Том в устройстве C не имеет метки.\n",
      " Серийный номер тома: 0CB7-F6D7\n",
      "\n",
      " Содержимое папки C:\\Users\\Rita\\Documents\\DLSchool\\1. Introduction to AI, DL instruments\n",
      "\n",
      "02.10.2018  22:10    <DIR>          .\n",
      "02.10.2018  22:10    <DIR>          ..\n",
      "02.10.2018  21:27    <DIR>          .ipynb_checkpoints\n",
      "02.10.2018  21:25           131 745 D.jpg\n",
      "02.10.2018  21:25           131 745 dl.jpg\n",
      "02.10.2018  21:25               841 README.MD\n",
      "02.10.2018  22:10            98 246 [seminar]python_basics.ipynb\n",
      "02.10.2018  21:25            70 979 [seminar]python_basics_solution.ipynb\n",
      "02.10.2018  21:25            23 787 [seminar]tools.ipynb\n",
      "               6 файлов        457 343 байт\n",
      "               3 папок  45 782 454 272 байт свободно\n"
     ]
    }
   ],
   "source": [
    "!dir"
   ]
  },
  {
   "cell_type": "code",
   "execution_count": 56,
   "metadata": {
    "colab": {},
    "colab_type": "code",
    "id": "-DWVWSFDGw5W"
   },
   "outputs": [
    {
     "ename": "NameError",
     "evalue": "name 'glob' is not defined",
     "output_type": "error",
     "traceback": [
      "\u001b[1;31m---------------------------------------------------------------------------\u001b[0m",
      "\u001b[1;31mNameError\u001b[0m                                 Traceback (most recent call last)",
      "\u001b[1;32m<ipython-input-56-fe4497bf9535>\u001b[0m in \u001b[0;36m<module>\u001b[1;34m()\u001b[0m\n\u001b[1;32m----> 1\u001b[1;33m \u001b[0mglob\u001b[0m\u001b[1;33m.\u001b[0m\u001b[0mglob\u001b[0m\u001b[1;33m(\u001b[0m\u001b[1;34m'./[0-9].*'\u001b[0m\u001b[1;33m)\u001b[0m\u001b[1;33m\u001b[0m\u001b[0m\n\u001b[0m",
      "\u001b[1;31mNameError\u001b[0m: name 'glob' is not defined"
     ]
    }
   ],
   "source": [
    "glob.glob('./[0-9].*')"
   ]
  },
  {
   "cell_type": "code",
   "execution_count": 57,
   "metadata": {
    "colab": {},
    "colab_type": "code",
    "id": "ymlN5XWwGw5X"
   },
   "outputs": [
    {
     "ename": "NameError",
     "evalue": "name 'glob' is not defined",
     "output_type": "error",
     "traceback": [
      "\u001b[1;31m---------------------------------------------------------------------------\u001b[0m",
      "\u001b[1;31mNameError\u001b[0m                                 Traceback (most recent call last)",
      "\u001b[1;32m<ipython-input-57-958bb1d13e80>\u001b[0m in \u001b[0;36m<module>\u001b[1;34m()\u001b[0m\n\u001b[1;32m----> 1\u001b[1;33m \u001b[0mglob\u001b[0m\u001b[1;33m.\u001b[0m\u001b[0mglob\u001b[0m\u001b[1;33m(\u001b[0m\u001b[1;34m'*.png'\u001b[0m\u001b[1;33m)\u001b[0m\u001b[1;33m\u001b[0m\u001b[0m\n\u001b[0m",
      "\u001b[1;31mNameError\u001b[0m: name 'glob' is not defined"
     ]
    }
   ],
   "source": [
    "glob.glob('*.png')"
   ]
  },
  {
   "cell_type": "code",
   "execution_count": 58,
   "metadata": {
    "colab": {},
    "colab_type": "code",
    "id": "B9aZ6xpVGw5Y"
   },
   "outputs": [
    {
     "ename": "NameError",
     "evalue": "name 'glob' is not defined",
     "output_type": "error",
     "traceback": [
      "\u001b[1;31m---------------------------------------------------------------------------\u001b[0m",
      "\u001b[1;31mNameError\u001b[0m                                 Traceback (most recent call last)",
      "\u001b[1;32m<ipython-input-58-25c258f3ff04>\u001b[0m in \u001b[0;36m<module>\u001b[1;34m()\u001b[0m\n\u001b[1;32m----> 1\u001b[1;33m \u001b[0mglob\u001b[0m\u001b[1;33m.\u001b[0m\u001b[0mglob\u001b[0m\u001b[1;33m(\u001b[0m\u001b[1;34m'?.jpg'\u001b[0m\u001b[1;33m)\u001b[0m\u001b[1;33m\u001b[0m\u001b[0m\n\u001b[0m",
      "\u001b[1;31mNameError\u001b[0m: name 'glob' is not defined"
     ]
    }
   ],
   "source": [
    "glob.glob('?.jpg')"
   ]
  },
  {
   "cell_type": "code",
   "execution_count": 59,
   "metadata": {
    "colab": {},
    "colab_type": "code",
    "id": "VnI6S7BSGw5Z"
   },
   "outputs": [
    {
     "ename": "NameError",
     "evalue": "name 'glob' is not defined",
     "output_type": "error",
     "traceback": [
      "\u001b[1;31m---------------------------------------------------------------------------\u001b[0m",
      "\u001b[1;31mNameError\u001b[0m                                 Traceback (most recent call last)",
      "\u001b[1;32m<ipython-input-59-0eb9e12dbe18>\u001b[0m in \u001b[0;36m<module>\u001b[1;34m()\u001b[0m\n\u001b[1;32m----> 1\u001b[1;33m \u001b[0mglob\u001b[0m\u001b[1;33m.\u001b[0m\u001b[0mglob\u001b[0m\u001b[1;33m(\u001b[0m\u001b[1;34m'./**/'\u001b[0m\u001b[1;33m,\u001b[0m \u001b[0mrecursive\u001b[0m\u001b[1;33m=\u001b[0m\u001b[1;32mTrue\u001b[0m\u001b[1;33m)\u001b[0m\u001b[1;33m\u001b[0m\u001b[0m\n\u001b[0m",
      "\u001b[1;31mNameError\u001b[0m: name 'glob' is not defined"
     ]
    }
   ],
   "source": [
    "glob.glob('./**/', recursive=True)"
   ]
  },
  {
   "cell_type": "code",
   "execution_count": 60,
   "metadata": {
    "colab": {},
    "colab_type": "code",
    "id": "7cowug2JGw5a"
   },
   "outputs": [
    {
     "ename": "NameError",
     "evalue": "name 'glob' is not defined",
     "output_type": "error",
     "traceback": [
      "\u001b[1;31m---------------------------------------------------------------------------\u001b[0m",
      "\u001b[1;31mNameError\u001b[0m                                 Traceback (most recent call last)",
      "\u001b[1;32m<ipython-input-60-cfd6e064fdd7>\u001b[0m in \u001b[0;36m<module>\u001b[1;34m()\u001b[0m\n\u001b[1;32m----> 1\u001b[1;33m \u001b[0mglob\u001b[0m\u001b[1;33m.\u001b[0m\u001b[0mglob\u001b[0m\u001b[1;33m(\u001b[0m\u001b[1;34m'**/*.txt'\u001b[0m\u001b[1;33m,\u001b[0m \u001b[0mrecursive\u001b[0m\u001b[1;33m=\u001b[0m\u001b[1;32mTrue\u001b[0m\u001b[1;33m)\u001b[0m\u001b[1;33m\u001b[0m\u001b[0m\n\u001b[0m",
      "\u001b[1;31mNameError\u001b[0m: name 'glob' is not defined"
     ]
    }
   ],
   "source": [
    "glob.glob('**/*.txt', recursive=True)"
   ]
  },
  {
   "cell_type": "markdown",
   "metadata": {
    "colab_type": "text",
    "id": "n0KYZdNcGw5b"
   },
   "source": [
    "### tqdm"
   ]
  },
  {
   "cell_type": "markdown",
   "metadata": {
    "colab_type": "text",
    "id": "YM9NS9PeGw5c"
   },
   "source": [
    "* Устанавливаем виджеты:\n",
    "\n",
    "`pip install ipywidgets`  \n",
    "\n",
    "(или `conda install -c conda-forge ipywidgets`)\n",
    "\n",
    "* Разрешаем их использование в Jupyter Notebook:  \n",
    "\n",
    "`jupyter nbextension enable --py --sys-prefix widgetsnbextension`  \n",
    "\n",
    "* Перезагружаем ядро (Restart Kernel)  \n",
    "\n",
    "\n",
    "* Устанавливаем tqdm:  \n",
    "\n",
    "`pip install tqdm`  \n",
    "\n",
    "(или `conda install -c conda-forge tqdm`)  \n",
    "\n",
    "Больше про tqdm: https://pypi.python.org/pypi/tqdm"
   ]
  },
  {
   "cell_type": "code",
   "execution_count": 63,
   "metadata": {
    "colab": {},
    "colab_type": "code",
    "id": "Gjf3-0CDGw5c"
   },
   "outputs": [
    {
     "ename": "ModuleNotFoundError",
     "evalue": "No module named 'tqdm'",
     "output_type": "error",
     "traceback": [
      "\u001b[1;31m---------------------------------------------------------------------------\u001b[0m",
      "\u001b[1;31mModuleNotFoundError\u001b[0m                       Traceback (most recent call last)",
      "\u001b[1;32m<ipython-input-63-e95a398ca086>\u001b[0m in \u001b[0;36m<module>\u001b[1;34m()\u001b[0m\n\u001b[1;32m----> 1\u001b[1;33m \u001b[1;32mfrom\u001b[0m \u001b[0mtqdm\u001b[0m \u001b[1;32mimport\u001b[0m \u001b[0mtqdm\u001b[0m\u001b[1;33m\u001b[0m\u001b[0m\n\u001b[0m\u001b[0;32m      2\u001b[0m \u001b[1;32mfrom\u001b[0m \u001b[0mtqdm\u001b[0m \u001b[1;32mimport\u001b[0m \u001b[0mtnrange\u001b[0m\u001b[1;33m,\u001b[0m \u001b[0mtqdm_notebook\u001b[0m\u001b[1;33m\u001b[0m\u001b[0m\n\u001b[0;32m      3\u001b[0m \u001b[1;32mfrom\u001b[0m \u001b[0mtime\u001b[0m \u001b[1;32mimport\u001b[0m \u001b[0msleep\u001b[0m\u001b[1;33m\u001b[0m\u001b[0m\n",
      "\u001b[1;31mModuleNotFoundError\u001b[0m: No module named 'tqdm'"
     ]
    }
   ],
   "source": [
    "from tqdm import tqdm\n",
    "from tqdm import tnrange, tqdm_notebook\n",
    "from time import sleep"
   ]
  },
  {
   "cell_type": "code",
   "execution_count": 64,
   "metadata": {
    "colab": {},
    "colab_type": "code",
    "id": "a3b80N6rGw5c"
   },
   "outputs": [
    {
     "ename": "NameError",
     "evalue": "name 'tqdm' is not defined",
     "output_type": "error",
     "traceback": [
      "\u001b[1;31m---------------------------------------------------------------------------\u001b[0m",
      "\u001b[1;31mNameError\u001b[0m                                 Traceback (most recent call last)",
      "\u001b[1;32m<ipython-input-64-d53dc4898525>\u001b[0m in \u001b[0;36m<module>\u001b[1;34m()\u001b[0m\n\u001b[0;32m      1\u001b[0m \u001b[0mcnt\u001b[0m \u001b[1;33m=\u001b[0m \u001b[1;36m0\u001b[0m\u001b[1;33m\u001b[0m\u001b[0m\n\u001b[1;32m----> 2\u001b[1;33m \u001b[1;32mfor\u001b[0m \u001b[0mi\u001b[0m \u001b[1;32min\u001b[0m \u001b[0mtqdm\u001b[0m\u001b[1;33m(\u001b[0m\u001b[0mrange\u001b[0m\u001b[1;33m(\u001b[0m\u001b[1;36m1000\u001b[0m\u001b[1;33m)\u001b[0m\u001b[1;33m)\u001b[0m\u001b[1;33m:\u001b[0m\u001b[1;33m\u001b[0m\u001b[0m\n\u001b[0m\u001b[0;32m      3\u001b[0m     \u001b[0msleep\u001b[0m\u001b[1;33m(\u001b[0m\u001b[1;36m0.01\u001b[0m\u001b[1;33m)\u001b[0m\u001b[1;33m\u001b[0m\u001b[0m\n\u001b[0;32m      4\u001b[0m     \u001b[0mcnt\u001b[0m \u001b[1;33m+=\u001b[0m \u001b[1;36m1\u001b[0m\u001b[1;33m\u001b[0m\u001b[0m\n",
      "\u001b[1;31mNameError\u001b[0m: name 'tqdm' is not defined"
     ]
    }
   ],
   "source": [
    "cnt = 0\n",
    "for i in tqdm(range(1000)):\n",
    "    sleep(0.01)\n",
    "    cnt += 1"
   ]
  },
  {
   "cell_type": "code",
   "execution_count": 65,
   "metadata": {
    "colab": {},
    "colab_type": "code",
    "id": "bHFdvioAGw5d"
   },
   "outputs": [
    {
     "ename": "NameError",
     "evalue": "name 'tnrange' is not defined",
     "output_type": "error",
     "traceback": [
      "\u001b[1;31m---------------------------------------------------------------------------\u001b[0m",
      "\u001b[1;31mNameError\u001b[0m                                 Traceback (most recent call last)",
      "\u001b[1;32m<ipython-input-65-6ef1b4718eb9>\u001b[0m in \u001b[0;36m<module>\u001b[1;34m()\u001b[0m\n\u001b[1;32m----> 1\u001b[1;33m \u001b[1;32mfor\u001b[0m \u001b[0mi\u001b[0m \u001b[1;32min\u001b[0m \u001b[0mtnrange\u001b[0m\u001b[1;33m(\u001b[0m\u001b[1;36m10\u001b[0m\u001b[1;33m,\u001b[0m \u001b[0mdesc\u001b[0m\u001b[1;33m=\u001b[0m\u001b[1;34m'1st loop'\u001b[0m\u001b[1;33m)\u001b[0m\u001b[1;33m:\u001b[0m\u001b[1;33m\u001b[0m\u001b[0m\n\u001b[0m\u001b[0;32m      2\u001b[0m     \u001b[1;32mfor\u001b[0m \u001b[0mj\u001b[0m \u001b[1;32min\u001b[0m \u001b[0mtqdm_notebook\u001b[0m\u001b[1;33m(\u001b[0m\u001b[0mrange\u001b[0m\u001b[1;33m(\u001b[0m\u001b[1;36m100\u001b[0m\u001b[1;33m)\u001b[0m\u001b[1;33m,\u001b[0m \u001b[0mdesc\u001b[0m\u001b[1;33m=\u001b[0m\u001b[1;34m'2nd loop'\u001b[0m\u001b[1;33m,\u001b[0m \u001b[0mleave\u001b[0m\u001b[1;33m=\u001b[0m\u001b[1;32mFalse\u001b[0m\u001b[1;33m)\u001b[0m\u001b[1;33m:\u001b[0m\u001b[1;33m\u001b[0m\u001b[0m\n\u001b[0;32m      3\u001b[0m         \u001b[0msleep\u001b[0m\u001b[1;33m(\u001b[0m\u001b[1;36m0.01\u001b[0m\u001b[1;33m)\u001b[0m\u001b[1;33m\u001b[0m\u001b[0m\n",
      "\u001b[1;31mNameError\u001b[0m: name 'tnrange' is not defined"
     ]
    }
   ],
   "source": [
    "for i in tnrange(10, desc='1st loop'):\n",
    "    for j in tqdm_notebook(range(100), desc='2nd loop', leave=False):\n",
    "        sleep(0.01)"
   ]
  },
  {
   "cell_type": "markdown",
   "metadata": {
    "colab_type": "text",
    "id": "FRMkmKXIGw5d"
   },
   "source": [
    "### collections"
   ]
  },
  {
   "cell_type": "markdown",
   "metadata": {
    "colab_type": "text",
    "id": "gLqohQ5rGw5f"
   },
   "source": [
    "* `defaultdict()` - класс словаря, у которого есть значение по умолчанию - порой очень пригождается:"
   ]
  },
  {
   "cell_type": "code",
   "execution_count": 66,
   "metadata": {
    "colab": {},
    "colab_type": "code",
    "id": "G39co0rLGw5h"
   },
   "outputs": [],
   "source": [
    "from collections import defaultdict"
   ]
  },
  {
   "cell_type": "code",
   "execution_count": 67,
   "metadata": {
    "colab": {},
    "colab_type": "code",
    "id": "Z-QskRLbGw5i"
   },
   "outputs": [
    {
     "name": "stdout",
     "output_type": "stream",
     "text": [
      "0\n",
      "5\n"
     ]
    }
   ],
   "source": [
    "d = defaultdict(int)\n",
    "\n",
    "print(d['key'])\n",
    "\n",
    "d['key'] = 5\n",
    "print(d['key'])  # 5"
   ]
  },
  {
   "cell_type": "code",
   "execution_count": 68,
   "metadata": {
    "colab": {},
    "colab_type": "code",
    "id": "esQdFR58Gw5j"
   },
   "outputs": [
    {
     "name": "stdout",
     "output_type": "stream",
     "text": [
      "empty\n",
      "full\n"
     ]
    }
   ],
   "source": [
    "d = defaultdict(lambda: 'empty')\n",
    "print(d['key'])\n",
    "\n",
    "d['key'] = 'full'\n",
    "print(d['key'])"
   ]
  },
  {
   "cell_type": "code",
   "execution_count": 69,
   "metadata": {
    "colab": {},
    "colab_type": "code",
    "id": "RWMWkplPGw5m"
   },
   "outputs": [
    {
     "name": "stdout",
     "output_type": "stream",
     "text": [
      "defaultdict(<class 'list'>, {})\n",
      "defaultdict(<class 'list'>, {'list1': [100, 200]})\n",
      "[100, 200]\n"
     ]
    }
   ],
   "source": [
    "d = defaultdict(list)\n",
    "print(d)\n",
    "\n",
    "d['list1'].append(100)\n",
    "d['list1'].append(200)\n",
    "print(d)\n",
    "print(d['list1'])"
   ]
  },
  {
   "cell_type": "markdown",
   "metadata": {
    "colab_type": "text",
    "id": "w4XJ967YGw5n"
   },
   "source": [
    "* `Counter()` - класс словаря, предназначенного для счётчиков. По сути, `== defaultdict(int)`:"
   ]
  },
  {
   "cell_type": "code",
   "execution_count": 71,
   "metadata": {
    "colab": {},
    "colab_type": "code",
    "id": "qQ-NZSr8Gw5o"
   },
   "outputs": [],
   "source": [
    "from collections import Counter"
   ]
  },
  {
   "cell_type": "code",
   "execution_count": 72,
   "metadata": {
    "colab": {},
    "colab_type": "code",
    "id": "e1DjIXd1Gw5p"
   },
   "outputs": [
    {
     "name": "stdout",
     "output_type": "stream",
     "text": [
      "Counter({'r': 227, 'o': 138, 'e': 132, 'n': 99, 't': 98, 'i': 86, 'a': 63, 's': 60, 'E': 58, 'c': 48, 'l': 43, 'd': 40, 'p': 38, '_': 38, 'm': 31, 'u': 29, 'y': 22, 'g': 21, 'b': 16, 'I': 14, 'x': 13, 'h': 12, 'W': 12, 'f': 9, 'F': 8, 'v': 8, 'N': 8, 'A': 7, 'P': 7, 'R': 7, 'S': 7, 'U': 7, 'O': 6, 'D': 6, 'T': 6, 'B': 5, 'k': 5, 'C': 5, 'w': 4, 'L': 3, 'K': 2, 'M': 2, 'z': 2, 'G': 1, 'V': 1, 'Z': 1, 'Y': 1, 'H': 1, 'j': 1})\n"
     ]
    }
   ],
   "source": [
    "counter = Counter()\n",
    "\n",
    "for word in dir(__builtin__):\n",
    "    for letter in word:\n",
    "        counter[letter] += 1  # или .update(value)\n",
    "    \n",
    "print(counter)"
   ]
  },
  {
   "cell_type": "markdown",
   "metadata": {
    "colab_type": "text",
    "id": "AdU2IypUGw5q"
   },
   "source": [
    "---"
   ]
  },
  {
   "cell_type": "markdown",
   "metadata": {
    "colab_type": "text",
    "id": "EhuZgDRMGw5q"
   },
   "source": [
    "### Задание 6\n",
    "\n",
    "1. Создайте словарь счётчиков\n",
    "2. Создайте переменную, в которую сохраните все пути к нужным текстовым файлам *(расположены по адресу `'./20_newsgroups/sci.space/'`, папка лежит в гугл-доке)*\n",
    "3. Для каждого текста (текстового файла) посчитайте сколько каждое слово (из этого текста) встретилось в этом тексте (используйте предыдущие пункты)"
   ]
  },
  {
   "cell_type": "code",
   "execution_count": 0,
   "metadata": {
    "colab": {},
    "colab_type": "code",
    "id": "R6HLSewSGw5r"
   },
   "outputs": [],
   "source": [
    "from collections import Counter\n",
    "ct=counter()\n"
   ]
  },
  {
   "cell_type": "markdown",
   "metadata": {
    "colab_type": "text",
    "id": "HN5aManjGw5r"
   },
   "source": [
    "---"
   ]
  },
  {
   "cell_type": "markdown",
   "metadata": {
    "colab_type": "text",
    "id": "UjW3DsbRGw5s"
   },
   "source": [
    "То, что Вы реализовали выше, есть ни что иное, как простая реализация **bag-of-words (мешок слов)** для корпуса из 9 документов."
   ]
  },
  {
   "cell_type": "markdown",
   "metadata": {
    "colab_type": "text",
    "id": "8gk03Q3jjW6M"
   },
   "source": [
    "Мы познакомились языком Python. Дальше нас ждёт знакомство с библиотеками **NumPy, SciPy** и **Matplotlib**, часто используемыми в анализе данных.  "
   ]
  },
  {
   "cell_type": "markdown",
   "metadata": {
    "colab_type": "text",
    "id": "dZWe7o1yGw5s"
   },
   "source": [
    "## Список материалов для самостоятельного изучения"
   ]
  },
  {
   "cell_type": "markdown",
   "metadata": {
    "colab_type": "text",
    "id": "scLkWzB7Gw5s"
   },
   "source": [
    "* *Сайт языка Python* - https://www.python.org/"
   ]
  },
  {
   "cell_type": "markdown",
   "metadata": {
    "colab_type": "text",
    "id": "5sid19J1Gw5s"
   },
   "source": [
    "* *Курс Python с нуля, можно выполнять задания в интерактивном режиме* - http://pythontutor.ru/"
   ]
  },
  {
   "cell_type": "markdown",
   "metadata": {
    "colab_type": "text",
    "id": "d3VWwzy-Gw5t"
   },
   "source": [
    "* *Новый онлайн-курс по Питону на Coursera от Mail.Ru Group* - https://www.coursera.org/learn/programming-in-python"
   ]
  },
  {
   "cell_type": "markdown",
   "metadata": {
    "colab_type": "text",
    "id": "hUkTs8N5Gw5t"
   },
   "source": [
    "* *Самоучитель Python* - https://pythonworld.ru/samouchitel-python"
   ]
  },
  {
   "cell_type": "markdown",
   "metadata": {
    "colab_type": "text",
    "id": "THosV0wvGw5t"
   },
   "source": [
    "* *Статья про коварности Python* - https://habrahabr.ru/company/mailru/blog/337364/"
   ]
  },
  {
   "cell_type": "markdown",
   "metadata": {
    "colab_type": "text",
    "id": "clIKUWycGw5t"
   },
   "source": [
    "* *Очень полезные трюки в Jupyter Notebook*: https://www.dataquest.io/blog/jupyter-notebook-tips-tricks-shortcuts/"
   ]
  },
  {
   "cell_type": "markdown",
   "metadata": {
    "colab_type": "text",
    "id": "1nkIBTyojW6O"
   },
   "source": [
    "## Домашнее задание №1"
   ]
  },
  {
   "cell_type": "markdown",
   "metadata": {
    "colab_type": "text",
    "id": "IcU_qRc5jW6O"
   },
   "source": [
    "- Всем прорешать этот ноутбук (сделать все  6 заданий)\n",
    "- Для тех, кто только начал знакомиться с Python: 2 ссылка выше - сделать как можно больше заданий \n",
    "- Для тех, кто \"я уже всё знаю (наверное)\": 5 и 6 ссылки выше (познакомиться с jupyter notebook, если не владеете)  \n",
    "- Для тех, кто \"я уже точно всё знаю про Python\": пора идти работать Python-разработчиком"
   ]
  },
  {
   "cell_type": "code",
   "execution_count": 0,
   "metadata": {
    "colab": {},
    "colab_type": "code",
    "id": "FdY3rE9uzS7_"
   },
   "outputs": [],
   "source": []
  }
 ],
 "metadata": {
  "colab": {
   "collapsed_sections": [
    "P7kqThRsGw1S",
    "Rq1vFhrLGw5O",
    "6leMOqzKGw5R",
    "eh9SR61aGw5U",
    "n8z_sEhyGw5V",
    "n0KYZdNcGw5b",
    "FRMkmKXIGw5d"
   ],
   "name": "[python][1]basics.ipynb",
   "provenance": [],
   "version": "0.3.2"
  },
  "kernelspec": {
   "display_name": "Python 3",
   "language": "python",
   "name": "python3"
  },
  "language_info": {
   "codemirror_mode": {
    "name": "ipython",
    "version": 3
   },
   "file_extension": ".py",
   "mimetype": "text/x-python",
   "name": "python",
   "nbconvert_exporter": "python",
   "pygments_lexer": "ipython3",
   "version": "3.6.5"
  }
 },
 "nbformat": 4,
 "nbformat_minor": 1
}
